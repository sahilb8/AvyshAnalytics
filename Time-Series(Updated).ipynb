{
 "cells": [
  {
   "cell_type": "code",
   "execution_count": 1,
   "metadata": {},
   "outputs": [],
   "source": [
    "import pandas as pd\n",
    "import numpy as np\n",
    "import matplotlib.pyplot as plt"
   ]
  },
  {
   "cell_type": "code",
   "execution_count": 2,
   "metadata": {},
   "outputs": [],
   "source": [
    "totDataset=pd.read_csv('Data Population - Main2.csv',index_col='Sr No')\n",
    "sellerDetails=pd.read_csv('Data Population - Sellers.csv')"
   ]
  },
  {
   "cell_type": "code",
   "execution_count": 3,
   "metadata": {},
   "outputs": [
    {
     "data": {
      "text/html": [
       "<div>\n",
       "<style scoped>\n",
       "    .dataframe tbody tr th:only-of-type {\n",
       "        vertical-align: middle;\n",
       "    }\n",
       "\n",
       "    .dataframe tbody tr th {\n",
       "        vertical-align: top;\n",
       "    }\n",
       "\n",
       "    .dataframe thead th {\n",
       "        text-align: right;\n",
       "    }\n",
       "</style>\n",
       "<table border=\"1\" class=\"dataframe\">\n",
       "  <thead>\n",
       "    <tr style=\"text-align: right;\">\n",
       "      <th></th>\n",
       "      <th>Sellers ID</th>\n",
       "      <th>Seller Name</th>\n",
       "      <th>Seller Level</th>\n",
       "      <th>Seller class</th>\n",
       "      <th>Seller team member name</th>\n",
       "      <th>Seller team member number</th>\n",
       "      <th>Bill Date</th>\n",
       "      <th>Bill Time</th>\n",
       "      <th>Bill No.</th>\n",
       "      <th>Transaction Type</th>\n",
       "      <th>...</th>\n",
       "      <th>Buyer Team member number</th>\n",
       "      <th>Category</th>\n",
       "      <th>Product</th>\n",
       "      <th>SKU</th>\n",
       "      <th>Brand</th>\n",
       "      <th>Unit Cost</th>\n",
       "      <th>Qty</th>\n",
       "      <th>Discount</th>\n",
       "      <th>Value</th>\n",
       "      <th>Unnamed: 27</th>\n",
       "    </tr>\n",
       "    <tr>\n",
       "      <th>Sr No</th>\n",
       "      <th></th>\n",
       "      <th></th>\n",
       "      <th></th>\n",
       "      <th></th>\n",
       "      <th></th>\n",
       "      <th></th>\n",
       "      <th></th>\n",
       "      <th></th>\n",
       "      <th></th>\n",
       "      <th></th>\n",
       "      <th></th>\n",
       "      <th></th>\n",
       "      <th></th>\n",
       "      <th></th>\n",
       "      <th></th>\n",
       "      <th></th>\n",
       "      <th></th>\n",
       "      <th></th>\n",
       "      <th></th>\n",
       "      <th></th>\n",
       "      <th></th>\n",
       "    </tr>\n",
       "  </thead>\n",
       "  <tbody>\n",
       "    <tr>\n",
       "      <th>1</th>\n",
       "      <td>111</td>\n",
       "      <td>Darshita Electornics</td>\n",
       "      <td>Platinum</td>\n",
       "      <td>L1</td>\n",
       "      <td>Agnes Griffin</td>\n",
       "      <td>8926868497</td>\n",
       "      <td>11/10/2019</td>\n",
       "      <td>12:16:24</td>\n",
       "      <td>abc001de</td>\n",
       "      <td>Sales(80%)</td>\n",
       "      <td>...</td>\n",
       "      <td>9583450160</td>\n",
       "      <td>C1</td>\n",
       "      <td>P1C1</td>\n",
       "      <td>ENMBK611</td>\n",
       "      <td>Nokia</td>\n",
       "      <td>158511</td>\n",
       "      <td>17</td>\n",
       "      <td>8</td>\n",
       "      <td>2479112.04</td>\n",
       "      <td>NaN</td>\n",
       "    </tr>\n",
       "    <tr>\n",
       "      <th>2</th>\n",
       "      <td>112</td>\n",
       "      <td>Jaliyan Sales</td>\n",
       "      <td>Platinum</td>\n",
       "      <td>L1</td>\n",
       "      <td>Ross Benninger</td>\n",
       "      <td>8973032438</td>\n",
       "      <td>10/07/2019</td>\n",
       "      <td>9:29:35</td>\n",
       "      <td>abc002de</td>\n",
       "      <td>Sales(80%)</td>\n",
       "      <td>...</td>\n",
       "      <td>9561301960</td>\n",
       "      <td>C1</td>\n",
       "      <td>P2C1</td>\n",
       "      <td>EAMGD111</td>\n",
       "      <td>Acer</td>\n",
       "      <td>78855</td>\n",
       "      <td>10</td>\n",
       "      <td>13</td>\n",
       "      <td>686038.50</td>\n",
       "      <td>NaN</td>\n",
       "    </tr>\n",
       "    <tr>\n",
       "      <th>3</th>\n",
       "      <td>113</td>\n",
       "      <td>Galaxy World</td>\n",
       "      <td>Silver</td>\n",
       "      <td>L1</td>\n",
       "      <td>Marilyn White</td>\n",
       "      <td>9259906003</td>\n",
       "      <td>02/19/2019</td>\n",
       "      <td>10:58:38</td>\n",
       "      <td>abc003de</td>\n",
       "      <td>Sales(80%)</td>\n",
       "      <td>...</td>\n",
       "      <td>9515213631</td>\n",
       "      <td>C1</td>\n",
       "      <td>P3C1</td>\n",
       "      <td>ENMBL711</td>\n",
       "      <td>Nokia</td>\n",
       "      <td>222233</td>\n",
       "      <td>3</td>\n",
       "      <td>9</td>\n",
       "      <td>606696.09</td>\n",
       "      <td>NaN</td>\n",
       "    </tr>\n",
       "    <tr>\n",
       "      <th>4</th>\n",
       "      <td>114</td>\n",
       "      <td>Megs_tronics</td>\n",
       "      <td>Silver</td>\n",
       "      <td>L1</td>\n",
       "      <td>Justin Hitt</td>\n",
       "      <td>9490391325</td>\n",
       "      <td>11/13/2019</td>\n",
       "      <td>14:32:10</td>\n",
       "      <td>abc004de</td>\n",
       "      <td>Sales(84%)</td>\n",
       "      <td>...</td>\n",
       "      <td>9543895215</td>\n",
       "      <td>C1</td>\n",
       "      <td>P4C1</td>\n",
       "      <td>EMMPK333</td>\n",
       "      <td>Mi</td>\n",
       "      <td>176735</td>\n",
       "      <td>3</td>\n",
       "      <td>10</td>\n",
       "      <td>477184.50</td>\n",
       "      <td>NaN</td>\n",
       "    </tr>\n",
       "    <tr>\n",
       "      <th>5</th>\n",
       "      <td>115</td>\n",
       "      <td>Visions India</td>\n",
       "      <td>Silver</td>\n",
       "      <td>L1</td>\n",
       "      <td>Tawana Schweitzer</td>\n",
       "      <td>9224797722</td>\n",
       "      <td>02/07/2019</td>\n",
       "      <td>14:08:43</td>\n",
       "      <td>abc005de</td>\n",
       "      <td>Sales(86%)</td>\n",
       "      <td>...</td>\n",
       "      <td>9525747749</td>\n",
       "      <td>C1</td>\n",
       "      <td>P5C1</td>\n",
       "      <td>EMSRD222</td>\n",
       "      <td>Mi</td>\n",
       "      <td>216229</td>\n",
       "      <td>25</td>\n",
       "      <td>8</td>\n",
       "      <td>4973267.00</td>\n",
       "      <td>NaN</td>\n",
       "    </tr>\n",
       "    <tr>\n",
       "      <th>...</th>\n",
       "      <td>...</td>\n",
       "      <td>...</td>\n",
       "      <td>...</td>\n",
       "      <td>...</td>\n",
       "      <td>...</td>\n",
       "      <td>...</td>\n",
       "      <td>...</td>\n",
       "      <td>...</td>\n",
       "      <td>...</td>\n",
       "      <td>...</td>\n",
       "      <td>...</td>\n",
       "      <td>...</td>\n",
       "      <td>...</td>\n",
       "      <td>...</td>\n",
       "      <td>...</td>\n",
       "      <td>...</td>\n",
       "      <td>...</td>\n",
       "      <td>...</td>\n",
       "      <td>...</td>\n",
       "      <td>...</td>\n",
       "      <td>...</td>\n",
       "    </tr>\n",
       "    <tr>\n",
       "      <th>1014</th>\n",
       "      <td>224</td>\n",
       "      <td>WorldCare</td>\n",
       "      <td>Silver</td>\n",
       "      <td>L3</td>\n",
       "      <td>Nicholas Cline</td>\n",
       "      <td>8387149622</td>\n",
       "      <td>11/19/2019</td>\n",
       "      <td>16:15:44</td>\n",
       "      <td>abc785de</td>\n",
       "      <td>Sales(88%)</td>\n",
       "      <td>...</td>\n",
       "      <td>7530433717</td>\n",
       "      <td>C35</td>\n",
       "      <td>P1C35</td>\n",
       "      <td>EMEBK021</td>\n",
       "      <td>Mi</td>\n",
       "      <td>194315</td>\n",
       "      <td>20</td>\n",
       "      <td>14</td>\n",
       "      <td>3342218.00</td>\n",
       "      <td>NaN</td>\n",
       "    </tr>\n",
       "    <tr>\n",
       "      <th>1015</th>\n",
       "      <td>225</td>\n",
       "      <td>FitnessHub</td>\n",
       "      <td>Silver</td>\n",
       "      <td>L2</td>\n",
       "      <td>John Lapointe</td>\n",
       "      <td>9146100127</td>\n",
       "      <td>07/24/2019</td>\n",
       "      <td>9:59:49</td>\n",
       "      <td>abc786de</td>\n",
       "      <td>Sales(90%)</td>\n",
       "      <td>...</td>\n",
       "      <td>8229860959</td>\n",
       "      <td>C35</td>\n",
       "      <td>P2C35</td>\n",
       "      <td>EHLGR952</td>\n",
       "      <td>HP</td>\n",
       "      <td>277607</td>\n",
       "      <td>13</td>\n",
       "      <td>3</td>\n",
       "      <td>3500624.27</td>\n",
       "      <td>NaN</td>\n",
       "    </tr>\n",
       "    <tr>\n",
       "      <th>1016</th>\n",
       "      <td>226</td>\n",
       "      <td>Cloudtail India</td>\n",
       "      <td>Gold</td>\n",
       "      <td>L2</td>\n",
       "      <td>Mark Cruz</td>\n",
       "      <td>9457388167</td>\n",
       "      <td>02/02/2019</td>\n",
       "      <td>13:36:42</td>\n",
       "      <td>abc787de</td>\n",
       "      <td>Sales(62%)</td>\n",
       "      <td>...</td>\n",
       "      <td>8385638623</td>\n",
       "      <td>C35</td>\n",
       "      <td>P3C35</td>\n",
       "      <td>EMPBL154</td>\n",
       "      <td>mi</td>\n",
       "      <td>208639</td>\n",
       "      <td>17</td>\n",
       "      <td>14</td>\n",
       "      <td>3050302.18</td>\n",
       "      <td>NaN</td>\n",
       "    </tr>\n",
       "    <tr>\n",
       "      <th>1017</th>\n",
       "      <td>227</td>\n",
       "      <td>Buy Your Wish</td>\n",
       "      <td>Gold</td>\n",
       "      <td>L3</td>\n",
       "      <td>Elizabeth Davis</td>\n",
       "      <td>8061380907</td>\n",
       "      <td>02/13/2019</td>\n",
       "      <td>18:54:30</td>\n",
       "      <td>abc788de</td>\n",
       "      <td>Sales(92%)</td>\n",
       "      <td>...</td>\n",
       "      <td>7278631561</td>\n",
       "      <td>C35</td>\n",
       "      <td>P4C35</td>\n",
       "      <td>ELRWT222</td>\n",
       "      <td>Lenovo</td>\n",
       "      <td>226747</td>\n",
       "      <td>9</td>\n",
       "      <td>14</td>\n",
       "      <td>1755021.78</td>\n",
       "      <td>NaN</td>\n",
       "    </tr>\n",
       "    <tr>\n",
       "      <th>1018</th>\n",
       "      <td>228</td>\n",
       "      <td>Vihaan</td>\n",
       "      <td>Platinum</td>\n",
       "      <td>L3</td>\n",
       "      <td>James Scheller</td>\n",
       "      <td>9586089411</td>\n",
       "      <td>12/16/2019</td>\n",
       "      <td>17:38:51</td>\n",
       "      <td>abc789de</td>\n",
       "      <td>Sales(66%)</td>\n",
       "      <td>...</td>\n",
       "      <td>7896303066</td>\n",
       "      <td>C35</td>\n",
       "      <td>P5C35</td>\n",
       "      <td>EPBWT541</td>\n",
       "      <td>Philips</td>\n",
       "      <td>101104</td>\n",
       "      <td>25</td>\n",
       "      <td>10</td>\n",
       "      <td>2274840.00</td>\n",
       "      <td>NaN</td>\n",
       "    </tr>\n",
       "  </tbody>\n",
       "</table>\n",
       "<p>1018 rows × 27 columns</p>\n",
       "</div>"
      ],
      "text/plain": [
       "       Sellers ID           Seller Name Seller Level Seller class  \\\n",
       "Sr No                                                               \n",
       "1             111  Darshita Electornics     Platinum           L1   \n",
       "2             112         Jaliyan Sales     Platinum           L1   \n",
       "3             113          Galaxy World       Silver           L1   \n",
       "4             114          Megs_tronics       Silver           L1   \n",
       "5             115         Visions India       Silver           L1   \n",
       "...           ...                   ...          ...          ...   \n",
       "1014          224             WorldCare       Silver           L3   \n",
       "1015          225            FitnessHub       Silver           L2   \n",
       "1016          226       Cloudtail India         Gold           L2   \n",
       "1017          227         Buy Your Wish         Gold           L3   \n",
       "1018          228                Vihaan     Platinum           L3   \n",
       "\n",
       "      Seller team member name  Seller team member number   Bill Date  \\\n",
       "Sr No                                                                  \n",
       "1               Agnes Griffin                 8926868497  11/10/2019   \n",
       "2              Ross Benninger                 8973032438  10/07/2019   \n",
       "3               Marilyn White                 9259906003  02/19/2019   \n",
       "4                 Justin Hitt                 9490391325  11/13/2019   \n",
       "5           Tawana Schweitzer                 9224797722  02/07/2019   \n",
       "...                       ...                        ...         ...   \n",
       "1014           Nicholas Cline                 8387149622  11/19/2019   \n",
       "1015            John Lapointe                 9146100127  07/24/2019   \n",
       "1016                Mark Cruz                 9457388167  02/02/2019   \n",
       "1017          Elizabeth Davis                 8061380907  02/13/2019   \n",
       "1018           James Scheller                 9586089411  12/16/2019   \n",
       "\n",
       "      Bill Time  Bill No. Transaction Type  ... Buyer Team member number  \\\n",
       "Sr No                                       ...                            \n",
       "1      12:16:24  abc001de       Sales(80%)  ...               9583450160   \n",
       "2       9:29:35  abc002de       Sales(80%)  ...               9561301960   \n",
       "3      10:58:38  abc003de       Sales(80%)  ...               9515213631   \n",
       "4      14:32:10  abc004de       Sales(84%)  ...               9543895215   \n",
       "5      14:08:43  abc005de       Sales(86%)  ...               9525747749   \n",
       "...         ...       ...              ...  ...                      ...   \n",
       "1014   16:15:44  abc785de       Sales(88%)  ...               7530433717   \n",
       "1015    9:59:49  abc786de       Sales(90%)  ...               8229860959   \n",
       "1016   13:36:42  abc787de       Sales(62%)  ...               8385638623   \n",
       "1017   18:54:30  abc788de       Sales(92%)  ...               7278631561   \n",
       "1018   17:38:51  abc789de       Sales(66%)  ...               7896303066   \n",
       "\n",
       "      Category Product       SKU    Brand Unit Cost Qty  Discount       Value  \\\n",
       "Sr No                                                                           \n",
       "1           C1    P1C1  ENMBK611    Nokia    158511  17         8  2479112.04   \n",
       "2           C1    P2C1  EAMGD111     Acer     78855  10        13   686038.50   \n",
       "3           C1    P3C1  ENMBL711    Nokia    222233   3         9   606696.09   \n",
       "4           C1    P4C1  EMMPK333       Mi    176735   3        10   477184.50   \n",
       "5           C1    P5C1  EMSRD222       Mi    216229  25         8  4973267.00   \n",
       "...        ...     ...       ...      ...       ...  ..       ...         ...   \n",
       "1014       C35   P1C35  EMEBK021       Mi    194315  20        14  3342218.00   \n",
       "1015       C35   P2C35  EHLGR952       HP    277607  13         3  3500624.27   \n",
       "1016       C35   P3C35  EMPBL154       mi    208639  17        14  3050302.18   \n",
       "1017       C35   P4C35  ELRWT222   Lenovo    226747   9        14  1755021.78   \n",
       "1018       C35   P5C35  EPBWT541  Philips    101104  25        10  2274840.00   \n",
       "\n",
       "      Unnamed: 27  \n",
       "Sr No              \n",
       "1             NaN  \n",
       "2             NaN  \n",
       "3             NaN  \n",
       "4             NaN  \n",
       "5             NaN  \n",
       "...           ...  \n",
       "1014          NaN  \n",
       "1015          NaN  \n",
       "1016          NaN  \n",
       "1017          NaN  \n",
       "1018          NaN  \n",
       "\n",
       "[1018 rows x 27 columns]"
      ]
     },
     "execution_count": 3,
     "metadata": {},
     "output_type": "execute_result"
    }
   ],
   "source": [
    "totDataset"
   ]
  },
  {
   "cell_type": "code",
   "execution_count": 4,
   "metadata": {},
   "outputs": [
    {
     "data": {
      "text/html": [
       "<div>\n",
       "<style scoped>\n",
       "    .dataframe tbody tr th:only-of-type {\n",
       "        vertical-align: middle;\n",
       "    }\n",
       "\n",
       "    .dataframe tbody tr th {\n",
       "        vertical-align: top;\n",
       "    }\n",
       "\n",
       "    .dataframe thead th {\n",
       "        text-align: right;\n",
       "    }\n",
       "</style>\n",
       "<table border=\"1\" class=\"dataframe\">\n",
       "  <thead>\n",
       "    <tr style=\"text-align: right;\">\n",
       "      <th></th>\n",
       "      <th>Sellers ID</th>\n",
       "      <th>Seller Name</th>\n",
       "      <th>Seller class</th>\n",
       "      <th>Seller Level</th>\n",
       "    </tr>\n",
       "  </thead>\n",
       "  <tbody>\n",
       "    <tr>\n",
       "      <th>0</th>\n",
       "      <td>111</td>\n",
       "      <td>Darshita Electornics</td>\n",
       "      <td>Platinum</td>\n",
       "      <td>L1</td>\n",
       "    </tr>\n",
       "    <tr>\n",
       "      <th>1</th>\n",
       "      <td>112</td>\n",
       "      <td>Jaliyan Sales</td>\n",
       "      <td>Platinum</td>\n",
       "      <td>L1</td>\n",
       "    </tr>\n",
       "    <tr>\n",
       "      <th>2</th>\n",
       "      <td>113</td>\n",
       "      <td>Galaxy World</td>\n",
       "      <td>Silver</td>\n",
       "      <td>L1</td>\n",
       "    </tr>\n",
       "    <tr>\n",
       "      <th>3</th>\n",
       "      <td>114</td>\n",
       "      <td>Megs_tronics</td>\n",
       "      <td>Silver</td>\n",
       "      <td>L1</td>\n",
       "    </tr>\n",
       "    <tr>\n",
       "      <th>4</th>\n",
       "      <td>115</td>\n",
       "      <td>Visions India</td>\n",
       "      <td>Silver</td>\n",
       "      <td>L1</td>\n",
       "    </tr>\n",
       "    <tr>\n",
       "      <th>...</th>\n",
       "      <td>...</td>\n",
       "      <td>...</td>\n",
       "      <td>...</td>\n",
       "      <td>...</td>\n",
       "    </tr>\n",
       "    <tr>\n",
       "      <th>135</th>\n",
       "      <td>246</td>\n",
       "      <td>Good Choice India</td>\n",
       "      <td>Silver</td>\n",
       "      <td>L1</td>\n",
       "    </tr>\n",
       "    <tr>\n",
       "      <th>136</th>\n",
       "      <td>247</td>\n",
       "      <td>EssEll</td>\n",
       "      <td>Gold</td>\n",
       "      <td>L1</td>\n",
       "    </tr>\n",
       "    <tr>\n",
       "      <th>137</th>\n",
       "      <td>248</td>\n",
       "      <td>Brands S</td>\n",
       "      <td>Gold</td>\n",
       "      <td>L1</td>\n",
       "    </tr>\n",
       "    <tr>\n",
       "      <th>138</th>\n",
       "      <td>249</td>\n",
       "      <td>Global Shopping Bag</td>\n",
       "      <td>Platinum</td>\n",
       "      <td>L2</td>\n",
       "    </tr>\n",
       "    <tr>\n",
       "      <th>139</th>\n",
       "      <td>250</td>\n",
       "      <td>G.G</td>\n",
       "      <td>Platinum</td>\n",
       "      <td>L2</td>\n",
       "    </tr>\n",
       "  </tbody>\n",
       "</table>\n",
       "<p>140 rows × 4 columns</p>\n",
       "</div>"
      ],
      "text/plain": [
       "     Sellers ID           Seller Name Seller class Seller Level\n",
       "0           111  Darshita Electornics     Platinum           L1\n",
       "1           112         Jaliyan Sales     Platinum           L1\n",
       "2           113          Galaxy World       Silver           L1\n",
       "3           114          Megs_tronics       Silver           L1\n",
       "4           115         Visions India       Silver           L1\n",
       "..          ...                   ...          ...          ...\n",
       "135         246     Good Choice India       Silver           L1\n",
       "136         247                EssEll         Gold           L1\n",
       "137         248              Brands S         Gold           L1\n",
       "138         249   Global Shopping Bag     Platinum           L2\n",
       "139         250                   G.G     Platinum           L2\n",
       "\n",
       "[140 rows x 4 columns]"
      ]
     },
     "execution_count": 4,
     "metadata": {},
     "output_type": "execute_result"
    }
   ],
   "source": [
    "sellerDetails"
   ]
  },
  {
   "cell_type": "code",
   "execution_count": 5,
   "metadata": {},
   "outputs": [],
   "source": [
    "#unique seller id in a list\n",
    "sellerID=sellerDetails['Sellers ID'].tolist()"
   ]
  },
  {
   "cell_type": "code",
   "execution_count": 6,
   "metadata": {},
   "outputs": [
    {
     "data": {
      "text/plain": [
       "[111,\n",
       " 112,\n",
       " 113,\n",
       " 114,\n",
       " 115,\n",
       " 116,\n",
       " 117,\n",
       " 118,\n",
       " 119,\n",
       " 120,\n",
       " 121,\n",
       " 122,\n",
       " 123,\n",
       " 124,\n",
       " 125,\n",
       " 126,\n",
       " 127,\n",
       " 128,\n",
       " 129,\n",
       " 130,\n",
       " 131,\n",
       " 132,\n",
       " 133,\n",
       " 134,\n",
       " 135,\n",
       " 136,\n",
       " 137,\n",
       " 138,\n",
       " 139,\n",
       " 140,\n",
       " 141,\n",
       " 142,\n",
       " 143,\n",
       " 144,\n",
       " 145,\n",
       " 146,\n",
       " 147,\n",
       " 148,\n",
       " 149,\n",
       " 150,\n",
       " 151,\n",
       " 152,\n",
       " 153,\n",
       " 154,\n",
       " 155,\n",
       " 156,\n",
       " 157,\n",
       " 158,\n",
       " 159,\n",
       " 160,\n",
       " 161,\n",
       " 162,\n",
       " 163,\n",
       " 164,\n",
       " 165,\n",
       " 166,\n",
       " 167,\n",
       " 168,\n",
       " 169,\n",
       " 170,\n",
       " 171,\n",
       " 172,\n",
       " 173,\n",
       " 174,\n",
       " 175,\n",
       " 176,\n",
       " 177,\n",
       " 178,\n",
       " 179,\n",
       " 180,\n",
       " 181,\n",
       " 182,\n",
       " 183,\n",
       " 184,\n",
       " 185,\n",
       " 186,\n",
       " 187,\n",
       " 188,\n",
       " 189,\n",
       " 190,\n",
       " 191,\n",
       " 192,\n",
       " 193,\n",
       " 194,\n",
       " 195,\n",
       " 196,\n",
       " 197,\n",
       " 198,\n",
       " 199,\n",
       " 200,\n",
       " 201,\n",
       " 202,\n",
       " 203,\n",
       " 204,\n",
       " 205,\n",
       " 206,\n",
       " 207,\n",
       " 208,\n",
       " 209,\n",
       " 210,\n",
       " 211,\n",
       " 212,\n",
       " 213,\n",
       " 214,\n",
       " 215,\n",
       " 216,\n",
       " 217,\n",
       " 218,\n",
       " 219,\n",
       " 220,\n",
       " 221,\n",
       " 222,\n",
       " 223,\n",
       " 224,\n",
       " 225,\n",
       " 226,\n",
       " 227,\n",
       " 228,\n",
       " 229,\n",
       " 230,\n",
       " 231,\n",
       " 232,\n",
       " 233,\n",
       " 234,\n",
       " 235,\n",
       " 236,\n",
       " 237,\n",
       " 238,\n",
       " 239,\n",
       " 240,\n",
       " 241,\n",
       " 242,\n",
       " 243,\n",
       " 244,\n",
       " 245,\n",
       " 246,\n",
       " 247,\n",
       " 248,\n",
       " 249,\n",
       " 250]"
      ]
     },
     "execution_count": 6,
     "metadata": {},
     "output_type": "execute_result"
    }
   ],
   "source": [
    "sellerID"
   ]
  },
  {
   "cell_type": "code",
   "execution_count": 7,
   "metadata": {},
   "outputs": [],
   "source": [
    "#all the seller ids in the main transaction dataframe\n",
    "mainSellerID=totDataset['Sellers ID'].tolist()"
   ]
  },
  {
   "cell_type": "code",
   "execution_count": 8,
   "metadata": {},
   "outputs": [
    {
     "data": {
      "text/plain": [
       "[111,\n",
       " 112,\n",
       " 113,\n",
       " 114,\n",
       " 115,\n",
       " 116,\n",
       " 117,\n",
       " 118,\n",
       " 119,\n",
       " 120,\n",
       " 121,\n",
       " 122,\n",
       " 123,\n",
       " 124,\n",
       " 125,\n",
       " 126,\n",
       " 127,\n",
       " 128,\n",
       " 129,\n",
       " 130,\n",
       " 131,\n",
       " 132,\n",
       " 133,\n",
       " 134,\n",
       " 135,\n",
       " 136,\n",
       " 137,\n",
       " 138,\n",
       " 139,\n",
       " 140,\n",
       " 141,\n",
       " 142,\n",
       " 143,\n",
       " 144,\n",
       " 145,\n",
       " 146,\n",
       " 147,\n",
       " 148,\n",
       " 149,\n",
       " 150,\n",
       " 151,\n",
       " 152,\n",
       " 153,\n",
       " 154,\n",
       " 155,\n",
       " 156,\n",
       " 157,\n",
       " 158,\n",
       " 159,\n",
       " 160,\n",
       " 161,\n",
       " 162,\n",
       " 163,\n",
       " 164,\n",
       " 165,\n",
       " 166,\n",
       " 167,\n",
       " 168,\n",
       " 117,\n",
       " 118,\n",
       " 119,\n",
       " 120,\n",
       " 121,\n",
       " 122,\n",
       " 123,\n",
       " 124,\n",
       " 125,\n",
       " 126,\n",
       " 127,\n",
       " 128,\n",
       " 129,\n",
       " 130,\n",
       " 131,\n",
       " 132,\n",
       " 133,\n",
       " 134,\n",
       " 135,\n",
       " 161,\n",
       " 162,\n",
       " 163,\n",
       " 164,\n",
       " 165,\n",
       " 166,\n",
       " 167,\n",
       " 168,\n",
       " 169,\n",
       " 170,\n",
       " 171,\n",
       " 172,\n",
       " 173,\n",
       " 174,\n",
       " 175,\n",
       " 176,\n",
       " 177,\n",
       " 178,\n",
       " 179,\n",
       " 180,\n",
       " 181,\n",
       " 182,\n",
       " 183,\n",
       " 184,\n",
       " 185,\n",
       " 186,\n",
       " 187,\n",
       " 188,\n",
       " 189,\n",
       " 190,\n",
       " 191,\n",
       " 192,\n",
       " 193,\n",
       " 194,\n",
       " 195,\n",
       " 196,\n",
       " 197,\n",
       " 198,\n",
       " 199,\n",
       " 200,\n",
       " 201,\n",
       " 202,\n",
       " 203,\n",
       " 204,\n",
       " 205,\n",
       " 206,\n",
       " 207,\n",
       " 208,\n",
       " 209,\n",
       " 210,\n",
       " 211,\n",
       " 212,\n",
       " 213,\n",
       " 214,\n",
       " 215,\n",
       " 216,\n",
       " 217,\n",
       " 218,\n",
       " 219,\n",
       " 220,\n",
       " 221,\n",
       " 222,\n",
       " 223,\n",
       " 224,\n",
       " 225,\n",
       " 226,\n",
       " 227,\n",
       " 228,\n",
       " 229,\n",
       " 230,\n",
       " 231,\n",
       " 232,\n",
       " 233,\n",
       " 234,\n",
       " 235,\n",
       " 236,\n",
       " 237,\n",
       " 238,\n",
       " 239,\n",
       " 240,\n",
       " 241,\n",
       " 242,\n",
       " 243,\n",
       " 244,\n",
       " 245,\n",
       " 246,\n",
       " 247,\n",
       " 248,\n",
       " 249,\n",
       " 250,\n",
       " 111,\n",
       " 112,\n",
       " 113,\n",
       " 114,\n",
       " 115,\n",
       " 116,\n",
       " 117,\n",
       " 118,\n",
       " 119,\n",
       " 120,\n",
       " 121,\n",
       " 122,\n",
       " 123,\n",
       " 124,\n",
       " 125,\n",
       " 126,\n",
       " 127,\n",
       " 128,\n",
       " 129,\n",
       " 130,\n",
       " 131,\n",
       " 132,\n",
       " 133,\n",
       " 134,\n",
       " 135,\n",
       " 136,\n",
       " 137,\n",
       " 138,\n",
       " 139,\n",
       " 140,\n",
       " 141,\n",
       " 142,\n",
       " 143,\n",
       " 144,\n",
       " 144,\n",
       " 144,\n",
       " 144,\n",
       " 144,\n",
       " 150,\n",
       " 150,\n",
       " 150,\n",
       " 150,\n",
       " 150,\n",
       " 155,\n",
       " 155,\n",
       " 155,\n",
       " 155,\n",
       " 155,\n",
       " 160,\n",
       " 160,\n",
       " 160,\n",
       " 160,\n",
       " 160,\n",
       " 165,\n",
       " 165,\n",
       " 165,\n",
       " 165,\n",
       " 165,\n",
       " 170,\n",
       " 170,\n",
       " 170,\n",
       " 170,\n",
       " 170,\n",
       " 175,\n",
       " 175,\n",
       " 175,\n",
       " 175,\n",
       " 175,\n",
       " 180,\n",
       " 180,\n",
       " 180,\n",
       " 180,\n",
       " 180,\n",
       " 190,\n",
       " 190,\n",
       " 190,\n",
       " 190,\n",
       " 190,\n",
       " 200,\n",
       " 200,\n",
       " 200,\n",
       " 200,\n",
       " 200,\n",
       " 200,\n",
       " 200,\n",
       " 200,\n",
       " 200,\n",
       " 200,\n",
       " 205,\n",
       " 205,\n",
       " 205,\n",
       " 205,\n",
       " 205,\n",
       " 205,\n",
       " 220,\n",
       " 220,\n",
       " 220,\n",
       " 220,\n",
       " 220,\n",
       " 220,\n",
       " 220,\n",
       " 220,\n",
       " 230,\n",
       " 230,\n",
       " 230,\n",
       " 230,\n",
       " 230,\n",
       " 240,\n",
       " 240,\n",
       " 240,\n",
       " 240,\n",
       " 240,\n",
       " 240,\n",
       " 245,\n",
       " 245,\n",
       " 245,\n",
       " 245,\n",
       " 245,\n",
       " 245,\n",
       " 245,\n",
       " 245,\n",
       " 136,\n",
       " 136,\n",
       " 136,\n",
       " 136,\n",
       " 136,\n",
       " 136,\n",
       " 136,\n",
       " 145,\n",
       " 146,\n",
       " 147,\n",
       " 148,\n",
       " 149,\n",
       " 150,\n",
       " 155,\n",
       " 155,\n",
       " 155,\n",
       " 155,\n",
       " 155,\n",
       " 155,\n",
       " 155,\n",
       " 171,\n",
       " 171,\n",
       " 171,\n",
       " 171,\n",
       " 171,\n",
       " 171,\n",
       " 171,\n",
       " 188,\n",
       " 188,\n",
       " 188,\n",
       " 188,\n",
       " 188,\n",
       " 188,\n",
       " 190,\n",
       " 190,\n",
       " 190,\n",
       " 190,\n",
       " 190,\n",
       " 190,\n",
       " 190,\n",
       " 202,\n",
       " 202,\n",
       " 202,\n",
       " 202,\n",
       " 202,\n",
       " 202,\n",
       " 205,\n",
       " 205,\n",
       " 205,\n",
       " 205,\n",
       " 205,\n",
       " 205,\n",
       " 205,\n",
       " 216,\n",
       " 216,\n",
       " 216,\n",
       " 216,\n",
       " 216,\n",
       " 216,\n",
       " 216,\n",
       " 216,\n",
       " 121,\n",
       " 122,\n",
       " 123,\n",
       " 124,\n",
       " 125,\n",
       " 126,\n",
       " 127,\n",
       " 128,\n",
       " 129,\n",
       " 130,\n",
       " 131,\n",
       " 132,\n",
       " 133,\n",
       " 134,\n",
       " 135,\n",
       " 136,\n",
       " 137,\n",
       " 138,\n",
       " 139,\n",
       " 140,\n",
       " 141,\n",
       " 142,\n",
       " 143,\n",
       " 144,\n",
       " 145,\n",
       " 146,\n",
       " 147,\n",
       " 148,\n",
       " 149,\n",
       " 150,\n",
       " 151,\n",
       " 152,\n",
       " 153,\n",
       " 154,\n",
       " 155,\n",
       " 156,\n",
       " 157,\n",
       " 158,\n",
       " 159,\n",
       " 160,\n",
       " 161,\n",
       " 162,\n",
       " 163,\n",
       " 164,\n",
       " 165,\n",
       " 166,\n",
       " 167,\n",
       " 168,\n",
       " 169,\n",
       " 170,\n",
       " 171,\n",
       " 172,\n",
       " 173,\n",
       " 174,\n",
       " 175,\n",
       " 176,\n",
       " 177,\n",
       " 178,\n",
       " 179,\n",
       " 180,\n",
       " 181,\n",
       " 182,\n",
       " 183,\n",
       " 184,\n",
       " 185,\n",
       " 186,\n",
       " 187,\n",
       " 188,\n",
       " 189,\n",
       " 190,\n",
       " 191,\n",
       " 192,\n",
       " 193,\n",
       " 194,\n",
       " 195,\n",
       " 196,\n",
       " 197,\n",
       " 198,\n",
       " 199,\n",
       " 200,\n",
       " 201,\n",
       " 202,\n",
       " 203,\n",
       " 204,\n",
       " 205,\n",
       " 206,\n",
       " 207,\n",
       " 208,\n",
       " 209,\n",
       " 210,\n",
       " 211,\n",
       " 212,\n",
       " 213,\n",
       " 214,\n",
       " 215,\n",
       " 216,\n",
       " 217,\n",
       " 218,\n",
       " 219,\n",
       " 220,\n",
       " 221,\n",
       " 222,\n",
       " 223,\n",
       " 224,\n",
       " 225,\n",
       " 226,\n",
       " 227,\n",
       " 228,\n",
       " 229,\n",
       " 230,\n",
       " 231,\n",
       " 232,\n",
       " 233,\n",
       " 234,\n",
       " 235,\n",
       " 236,\n",
       " 237,\n",
       " 238,\n",
       " 239,\n",
       " 240,\n",
       " 241,\n",
       " 242,\n",
       " 243,\n",
       " 244,\n",
       " 245,\n",
       " 246,\n",
       " 247,\n",
       " 248,\n",
       " 249,\n",
       " 250,\n",
       " 111,\n",
       " 112,\n",
       " 113,\n",
       " 114,\n",
       " 115,\n",
       " 116,\n",
       " 117,\n",
       " 118,\n",
       " 119,\n",
       " 120,\n",
       " 121,\n",
       " 122,\n",
       " 123,\n",
       " 124,\n",
       " 125,\n",
       " 126,\n",
       " 127,\n",
       " 128,\n",
       " 129,\n",
       " 130,\n",
       " 131,\n",
       " 132,\n",
       " 133,\n",
       " 134,\n",
       " 135,\n",
       " 136,\n",
       " 137,\n",
       " 138,\n",
       " 139,\n",
       " 140,\n",
       " 141,\n",
       " 142,\n",
       " 143,\n",
       " 144,\n",
       " 145,\n",
       " 146,\n",
       " 147,\n",
       " 148,\n",
       " 149,\n",
       " 150,\n",
       " 151,\n",
       " 152,\n",
       " 153,\n",
       " 154,\n",
       " 155,\n",
       " 156,\n",
       " 157,\n",
       " 158,\n",
       " 159,\n",
       " 160,\n",
       " 161,\n",
       " 162,\n",
       " 163,\n",
       " 164,\n",
       " 165,\n",
       " 166,\n",
       " 167,\n",
       " 168,\n",
       " 169,\n",
       " 170,\n",
       " 171,\n",
       " 172,\n",
       " 173,\n",
       " 174,\n",
       " 175,\n",
       " 176,\n",
       " 177,\n",
       " 178,\n",
       " 179,\n",
       " 180,\n",
       " 181,\n",
       " 182,\n",
       " 183,\n",
       " 184,\n",
       " 185,\n",
       " 186,\n",
       " 187,\n",
       " 188,\n",
       " 189,\n",
       " 190,\n",
       " 191,\n",
       " 192,\n",
       " 193,\n",
       " 194,\n",
       " 195,\n",
       " 196,\n",
       " 197,\n",
       " 198,\n",
       " 199,\n",
       " 200,\n",
       " 201,\n",
       " 202,\n",
       " 203,\n",
       " 204,\n",
       " 205,\n",
       " 206,\n",
       " 207,\n",
       " 208,\n",
       " 209,\n",
       " 210,\n",
       " 211,\n",
       " 212,\n",
       " 213,\n",
       " 214,\n",
       " 215,\n",
       " 216,\n",
       " 217,\n",
       " 218,\n",
       " 219,\n",
       " 220,\n",
       " 221,\n",
       " 222,\n",
       " 223,\n",
       " 224,\n",
       " 225,\n",
       " 226,\n",
       " 227,\n",
       " 228,\n",
       " 229,\n",
       " 230,\n",
       " 231,\n",
       " 232,\n",
       " 232,\n",
       " 232,\n",
       " 232,\n",
       " 232,\n",
       " 233,\n",
       " 233,\n",
       " 233,\n",
       " 233,\n",
       " 233,\n",
       " 233,\n",
       " 233,\n",
       " 233,\n",
       " 234,\n",
       " 234,\n",
       " 234,\n",
       " 236,\n",
       " 236,\n",
       " 236,\n",
       " 236,\n",
       " 236,\n",
       " 237,\n",
       " 237,\n",
       " 237,\n",
       " 237,\n",
       " 237,\n",
       " 237,\n",
       " 237,\n",
       " 237,\n",
       " 238,\n",
       " 238,\n",
       " 238,\n",
       " 238,\n",
       " 239,\n",
       " 239,\n",
       " 239,\n",
       " 239,\n",
       " 239,\n",
       " 239,\n",
       " 239,\n",
       " 239,\n",
       " 239,\n",
       " 239,\n",
       " 240,\n",
       " 240,\n",
       " 240,\n",
       " 240,\n",
       " 240,\n",
       " 242,\n",
       " 242,\n",
       " 243,\n",
       " 243,\n",
       " 243,\n",
       " 243,\n",
       " 243,\n",
       " 243,\n",
       " 243,\n",
       " 243,\n",
       " 243,\n",
       " 243,\n",
       " 243,\n",
       " 243,\n",
       " 243,\n",
       " 243,\n",
       " 243,\n",
       " 246,\n",
       " 246,\n",
       " 246,\n",
       " 246,\n",
       " 246,\n",
       " 246,\n",
       " 246,\n",
       " 111,\n",
       " 111,\n",
       " 111,\n",
       " 111,\n",
       " 111,\n",
       " 111,\n",
       " 111,\n",
       " 111,\n",
       " 142,\n",
       " 142,\n",
       " 142,\n",
       " 142,\n",
       " 142,\n",
       " 146,\n",
       " 146,\n",
       " 146,\n",
       " 146,\n",
       " 146,\n",
       " 146,\n",
       " 164,\n",
       " 164,\n",
       " 164,\n",
       " 164,\n",
       " 164,\n",
       " 164,\n",
       " 164,\n",
       " 164,\n",
       " 132,\n",
       " 133,\n",
       " 134,\n",
       " 135,\n",
       " 136,\n",
       " 137,\n",
       " 138,\n",
       " 139,\n",
       " 140,\n",
       " 141,\n",
       " 142,\n",
       " 143,\n",
       " 144,\n",
       " 145,\n",
       " 146,\n",
       " 147,\n",
       " 148,\n",
       " 149,\n",
       " 150,\n",
       " 151,\n",
       " 152,\n",
       " 153,\n",
       " 154,\n",
       " 155,\n",
       " 156,\n",
       " 157,\n",
       " 158,\n",
       " 159,\n",
       " 160,\n",
       " 161,\n",
       " 162,\n",
       " 163,\n",
       " 164,\n",
       " 165,\n",
       " 166,\n",
       " 167,\n",
       " 168,\n",
       " 169,\n",
       " 170,\n",
       " 171,\n",
       " 172,\n",
       " 173,\n",
       " 174,\n",
       " 175,\n",
       " 176,\n",
       " 177,\n",
       " 178,\n",
       " 179,\n",
       " 180,\n",
       " 181,\n",
       " 182,\n",
       " 183,\n",
       " 184,\n",
       " 185,\n",
       " 186,\n",
       " 187,\n",
       " 188,\n",
       " 189,\n",
       " 190,\n",
       " 191,\n",
       " 192,\n",
       " 193,\n",
       " 194,\n",
       " 195,\n",
       " 196,\n",
       " 197,\n",
       " 198,\n",
       " 199,\n",
       " 200,\n",
       " 201,\n",
       " 202,\n",
       " 203,\n",
       " 204,\n",
       " 205,\n",
       " 206,\n",
       " 207,\n",
       " 208,\n",
       " 209,\n",
       " 210,\n",
       " 211,\n",
       " 212,\n",
       " 213,\n",
       " 214,\n",
       " 215,\n",
       " 216,\n",
       " 217,\n",
       " 218,\n",
       " 219,\n",
       " 220,\n",
       " 221,\n",
       " 222,\n",
       " 223,\n",
       " 224,\n",
       " 225,\n",
       " 226,\n",
       " 227,\n",
       " 228,\n",
       " 229,\n",
       " 230,\n",
       " 231,\n",
       " 232,\n",
       " 233,\n",
       " 234,\n",
       " 235,\n",
       " 236,\n",
       " 237,\n",
       " 238,\n",
       " 239,\n",
       " 240,\n",
       " 241,\n",
       " 242,\n",
       " 243,\n",
       " 244,\n",
       " 245,\n",
       " 246,\n",
       " 247,\n",
       " 248,\n",
       " 249,\n",
       " 250,\n",
       " 111,\n",
       " 112,\n",
       " 113,\n",
       " 114,\n",
       " 115,\n",
       " 116,\n",
       " 117,\n",
       " 118,\n",
       " 119,\n",
       " 120,\n",
       " 121,\n",
       " 122,\n",
       " 123,\n",
       " 124,\n",
       " 125,\n",
       " 126,\n",
       " 127,\n",
       " 128,\n",
       " 129,\n",
       " 130,\n",
       " 131,\n",
       " 132,\n",
       " 133,\n",
       " 134,\n",
       " 135,\n",
       " 136,\n",
       " 137,\n",
       " 138,\n",
       " 139,\n",
       " 140,\n",
       " 141,\n",
       " 142,\n",
       " 143,\n",
       " 144,\n",
       " 145,\n",
       " 146,\n",
       " 147,\n",
       " 148,\n",
       " 149,\n",
       " 150,\n",
       " 151,\n",
       " 152,\n",
       " 153,\n",
       " 154,\n",
       " 155,\n",
       " 156,\n",
       " 157,\n",
       " 158,\n",
       " 159,\n",
       " 160,\n",
       " 161,\n",
       " 162,\n",
       " 163,\n",
       " 164,\n",
       " 165,\n",
       " 166,\n",
       " 167,\n",
       " 168,\n",
       " 169,\n",
       " 170,\n",
       " 171,\n",
       " 172,\n",
       " 173,\n",
       " 174,\n",
       " 175,\n",
       " 176,\n",
       " 177,\n",
       " 178,\n",
       " 179,\n",
       " 180,\n",
       " 181,\n",
       " 182,\n",
       " 183,\n",
       " 184,\n",
       " 185,\n",
       " 186,\n",
       " 187,\n",
       " 188,\n",
       " 189,\n",
       " 190,\n",
       " 191,\n",
       " 192,\n",
       " 193,\n",
       " 194,\n",
       " 195,\n",
       " 132,\n",
       " 170,\n",
       " 113,\n",
       " 114,\n",
       " 115,\n",
       " 116,\n",
       " 117,\n",
       " 186,\n",
       " 187,\n",
       " 188,\n",
       " 189,\n",
       " 190,\n",
       " 169,\n",
       " 170,\n",
       " 141,\n",
       " 142,\n",
       " 143,\n",
       " 144,\n",
       " 145,\n",
       " 156,\n",
       " 157,\n",
       " 158,\n",
       " 159,\n",
       " 160,\n",
       " 176,\n",
       " 177,\n",
       " 178,\n",
       " 179,\n",
       " 180,\n",
       " 164,\n",
       " 150,\n",
       " 151,\n",
       " 152,\n",
       " 153,\n",
       " 154,\n",
       " 155,\n",
       " 156,\n",
       " 157,\n",
       " 158,\n",
       " 159,\n",
       " 198,\n",
       " 199,\n",
       " 200,\n",
       " 201,\n",
       " 202,\n",
       " 203,\n",
       " 204,\n",
       " 205,\n",
       " 206,\n",
       " 207,\n",
       " 208,\n",
       " 161,\n",
       " 162,\n",
       " 163,\n",
       " 164,\n",
       " 165,\n",
       " 166,\n",
       " 167,\n",
       " 168,\n",
       " 169,\n",
       " 170,\n",
       " 137,\n",
       " 138,\n",
       " 139,\n",
       " 140,\n",
       " 141,\n",
       " 111,\n",
       " 112,\n",
       " 113,\n",
       " 114,\n",
       " 115,\n",
       " 116,\n",
       " 117,\n",
       " 118,\n",
       " 119,\n",
       " 120,\n",
       " 130,\n",
       " 131,\n",
       " 132,\n",
       " 133,\n",
       " 134,\n",
       " 135,\n",
       " 136,\n",
       " 137,\n",
       " 138,\n",
       " 139,\n",
       " 241,\n",
       " 242,\n",
       " 243,\n",
       " 244,\n",
       " 245,\n",
       " 246,\n",
       " 247,\n",
       " 248,\n",
       " 249,\n",
       " 250,\n",
       " 180,\n",
       " ...]"
      ]
     },
     "execution_count": 8,
     "metadata": {},
     "output_type": "execute_result"
    }
   ],
   "source": [
    "mainSellerID"
   ]
  },
  {
   "cell_type": "code",
   "execution_count": 9,
   "metadata": {},
   "outputs": [
    {
     "data": {
      "text/plain": [
       "1018"
      ]
     },
     "execution_count": 9,
     "metadata": {},
     "output_type": "execute_result"
    }
   ],
   "source": [
    "len(mainSellerID)"
   ]
  },
  {
   "cell_type": "code",
   "execution_count": 10,
   "metadata": {},
   "outputs": [],
   "source": [
    "#Code to remove the spaces in the column names and replace space with '_'\n",
    "totDataset.columns = [c.replace(' ', '_') for c in totDataset.columns]"
   ]
  },
  {
   "cell_type": "code",
   "execution_count": 11,
   "metadata": {},
   "outputs": [],
   "source": [
    "#list of all the values\n",
    "value=totDataset['Value'].tolist()"
   ]
  },
  {
   "cell_type": "code",
   "execution_count": 53,
   "metadata": {},
   "outputs": [
    {
     "data": {
      "text/plain": [
       "1018"
      ]
     },
     "execution_count": 53,
     "metadata": {},
     "output_type": "execute_result"
    }
   ],
   "source": [
    "len(value)"
   ]
  },
  {
   "cell_type": "code",
   "execution_count": 13,
   "metadata": {},
   "outputs": [],
   "source": [
    "val_perSeller=[]\n",
    "for i in sellerID:\n",
    "    val_sum=0\n",
    "    for j in range(0,1018):\n",
    "        if(i==mainSellerID[j]):\n",
    "            val_sum+=value[j]\n",
    "    val_perSeller.append(val_sum)\n",
    "    "
   ]
  },
  {
   "cell_type": "code",
   "execution_count": 14,
   "metadata": {},
   "outputs": [
    {
     "data": {
      "text/plain": [
       "[25459571.790000003,\n",
       " 16231455.64,\n",
       " 14705169.35,\n",
       " 5412785.42,\n",
       " 10581519.020000001,\n",
       " 9507531.620000001,\n",
       " 13733834.09,\n",
       " 11606884.280000001,\n",
       " 2501306.47,\n",
       " 8177658.9399999995,\n",
       " 8822153.95,\n",
       " 11055384.239999998,\n",
       " 19054371.84,\n",
       " 10225417.520000001,\n",
       " 13938312.3,\n",
       " 14604591.13,\n",
       " 9291018.100000001,\n",
       " 15960903.469999999,\n",
       " 11412516.46,\n",
       " 8860217.31,\n",
       " 14929290.850000001,\n",
       " 16325283.190000001,\n",
       " 16901397.68,\n",
       " 15177305.61,\n",
       " 14502444.120000001,\n",
       " 22228011.7,\n",
       " 11277019.55,\n",
       " 6342087.819999999,\n",
       " 21179927.72,\n",
       " 17272772.04,\n",
       " 18257468.96,\n",
       " 20025716.09,\n",
       " 13185984.799999999,\n",
       " 28267964.52,\n",
       " 11926360.32,\n",
       " 20312939.17,\n",
       " 14685243.24,\n",
       " 9151229.83,\n",
       " 8721766.079999998,\n",
       " 23063938.95,\n",
       " 7749005.180000001,\n",
       " 5434323.58,\n",
       " 13520210.73,\n",
       " 12157021.92,\n",
       " 35058220.339999996,\n",
       " 14824261.41,\n",
       " 14177695.64,\n",
       " 12063969.229999999,\n",
       " 19107591.72,\n",
       " 15737092.959999999,\n",
       " 8451758.94,\n",
       " 11568316.58,\n",
       " 13969415.77,\n",
       " 34988674.989999995,\n",
       " 22072607.919999998,\n",
       " 13543837.11,\n",
       " 18162697.0,\n",
       " 14194076.379999999,\n",
       " 12803747.19,\n",
       " 27055692.759999998,\n",
       " 15754934.940000001,\n",
       " 11298548.390000002,\n",
       " 8312695.600000001,\n",
       " 10371569.79,\n",
       " 23274218.12,\n",
       " 15421054.84,\n",
       " 8621783.86,\n",
       " 5617211.82,\n",
       " 10517880.77,\n",
       " 33773460.55,\n",
       " 16208762.079999998,\n",
       " 10879489.34,\n",
       " 15216315.0,\n",
       " 11604818.739999998,\n",
       " 8539406.48,\n",
       " 10537445.190000001,\n",
       " 7578696.1899999995,\n",
       " 20443337.7,\n",
       " 19429443.669999998,\n",
       " 27446451.490000006,\n",
       " 4268515.0600000005,\n",
       " 11917139.7,\n",
       " 3016154.21,\n",
       " 11905931.8,\n",
       " 4135203.16,\n",
       " 1734022.44,\n",
       " 2828800.36,\n",
       " 12565367.2,\n",
       " 7514787.05,\n",
       " 27608861.58,\n",
       " 3055122.8500000006,\n",
       " 27124995.939999998,\n",
       " 5560293.53,\n",
       " 10390644.55,\n",
       " 41008652.59,\n",
       " 8753246.760000002,\n",
       " 14487694.52,\n",
       " 8679478.77,\n",
       " 4662200.58,\n",
       " 5000793.82,\n",
       " 6837890.52,\n",
       " 4298600.08,\n",
       " 6266996.54,\n",
       " 7296583.789999999,\n",
       " 9813942.9,\n",
       " 9111562.5,\n",
       " 4854344.64,\n",
       " 4464475.89,\n",
       " 7252567.89,\n",
       " 27806123.760000005,\n",
       " 5951960.23,\n",
       " 5309961.95,\n",
       " 7362359.66,\n",
       " 6544541.51,\n",
       " 6739573.98,\n",
       " 3692630.91,\n",
       " 5818891.010000001,\n",
       " 13669245.030000001,\n",
       " 8516526.42,\n",
       " 15878486.950000001,\n",
       " 3901467.84,\n",
       " 17629255.18,\n",
       " 23877431.85,\n",
       " 14349983.16,\n",
       " 13717059.41,\n",
       " 15612428.69,\n",
       " 17805237.06,\n",
       " 23930753.22,\n",
       " 35341132.09,\n",
       " 31876834.21,\n",
       " 6739912.199999999,\n",
       " 11382527.22,\n",
       " 31051876.07,\n",
       " 7579269.18,\n",
       " 18468051.34,\n",
       " 13152125.89,\n",
       " 5883544.710000001,\n",
       " 11206018.549999999,\n",
       " 7569664.51,\n",
       " 6248865.82]"
      ]
     },
     "execution_count": 14,
     "metadata": {},
     "output_type": "execute_result"
    }
   ],
   "source": [
    "val_perSeller"
   ]
  },
  {
   "cell_type": "code",
   "execution_count": 15,
   "metadata": {},
   "outputs": [
    {
     "data": {
      "text/plain": [
       "140"
      ]
     },
     "execution_count": 15,
     "metadata": {},
     "output_type": "execute_result"
    }
   ],
   "source": [
    "len(val_perSeller)"
   ]
  },
  {
   "cell_type": "code",
   "execution_count": 16,
   "metadata": {},
   "outputs": [],
   "source": [
    "#dictionary for seller ID and respective value\n",
    "sellerID_val= dict(zip(sellerID, val_perSeller))"
   ]
  },
  {
   "cell_type": "code",
   "execution_count": 17,
   "metadata": {},
   "outputs": [
    {
     "data": {
      "text/plain": [
       "{111: 25459571.790000003,\n",
       " 112: 16231455.64,\n",
       " 113: 14705169.35,\n",
       " 114: 5412785.42,\n",
       " 115: 10581519.020000001,\n",
       " 116: 9507531.620000001,\n",
       " 117: 13733834.09,\n",
       " 118: 11606884.280000001,\n",
       " 119: 2501306.47,\n",
       " 120: 8177658.9399999995,\n",
       " 121: 8822153.95,\n",
       " 122: 11055384.239999998,\n",
       " 123: 19054371.84,\n",
       " 124: 10225417.520000001,\n",
       " 125: 13938312.3,\n",
       " 126: 14604591.13,\n",
       " 127: 9291018.100000001,\n",
       " 128: 15960903.469999999,\n",
       " 129: 11412516.46,\n",
       " 130: 8860217.31,\n",
       " 131: 14929290.850000001,\n",
       " 132: 16325283.190000001,\n",
       " 133: 16901397.68,\n",
       " 134: 15177305.61,\n",
       " 135: 14502444.120000001,\n",
       " 136: 22228011.7,\n",
       " 137: 11277019.55,\n",
       " 138: 6342087.819999999,\n",
       " 139: 21179927.72,\n",
       " 140: 17272772.04,\n",
       " 141: 18257468.96,\n",
       " 142: 20025716.09,\n",
       " 143: 13185984.799999999,\n",
       " 144: 28267964.52,\n",
       " 145: 11926360.32,\n",
       " 146: 20312939.17,\n",
       " 147: 14685243.24,\n",
       " 148: 9151229.83,\n",
       " 149: 8721766.079999998,\n",
       " 150: 23063938.95,\n",
       " 151: 7749005.180000001,\n",
       " 152: 5434323.58,\n",
       " 153: 13520210.73,\n",
       " 154: 12157021.92,\n",
       " 155: 35058220.339999996,\n",
       " 156: 14824261.41,\n",
       " 157: 14177695.64,\n",
       " 158: 12063969.229999999,\n",
       " 159: 19107591.72,\n",
       " 160: 15737092.959999999,\n",
       " 161: 8451758.94,\n",
       " 162: 11568316.58,\n",
       " 163: 13969415.77,\n",
       " 164: 34988674.989999995,\n",
       " 165: 22072607.919999998,\n",
       " 166: 13543837.11,\n",
       " 167: 18162697.0,\n",
       " 168: 14194076.379999999,\n",
       " 169: 12803747.19,\n",
       " 170: 27055692.759999998,\n",
       " 171: 15754934.940000001,\n",
       " 172: 11298548.390000002,\n",
       " 173: 8312695.600000001,\n",
       " 174: 10371569.79,\n",
       " 175: 23274218.12,\n",
       " 176: 15421054.84,\n",
       " 177: 8621783.86,\n",
       " 178: 5617211.82,\n",
       " 179: 10517880.77,\n",
       " 180: 33773460.55,\n",
       " 181: 16208762.079999998,\n",
       " 182: 10879489.34,\n",
       " 183: 15216315.0,\n",
       " 184: 11604818.739999998,\n",
       " 185: 8539406.48,\n",
       " 186: 10537445.190000001,\n",
       " 187: 7578696.1899999995,\n",
       " 188: 20443337.7,\n",
       " 189: 19429443.669999998,\n",
       " 190: 27446451.490000006,\n",
       " 191: 4268515.0600000005,\n",
       " 192: 11917139.7,\n",
       " 193: 3016154.21,\n",
       " 194: 11905931.8,\n",
       " 195: 4135203.16,\n",
       " 196: 1734022.44,\n",
       " 197: 2828800.36,\n",
       " 198: 12565367.2,\n",
       " 199: 7514787.05,\n",
       " 200: 27608861.58,\n",
       " 201: 3055122.8500000006,\n",
       " 202: 27124995.939999998,\n",
       " 203: 5560293.53,\n",
       " 204: 10390644.55,\n",
       " 205: 41008652.59,\n",
       " 206: 8753246.760000002,\n",
       " 207: 14487694.52,\n",
       " 208: 8679478.77,\n",
       " 209: 4662200.58,\n",
       " 210: 5000793.82,\n",
       " 211: 6837890.52,\n",
       " 212: 4298600.08,\n",
       " 213: 6266996.54,\n",
       " 214: 7296583.789999999,\n",
       " 215: 9813942.9,\n",
       " 216: 9111562.5,\n",
       " 217: 4854344.64,\n",
       " 218: 4464475.89,\n",
       " 219: 7252567.89,\n",
       " 220: 27806123.760000005,\n",
       " 221: 5951960.23,\n",
       " 222: 5309961.95,\n",
       " 223: 7362359.66,\n",
       " 224: 6544541.51,\n",
       " 225: 6739573.98,\n",
       " 226: 3692630.91,\n",
       " 227: 5818891.010000001,\n",
       " 228: 13669245.030000001,\n",
       " 229: 8516526.42,\n",
       " 230: 15878486.950000001,\n",
       " 231: 3901467.84,\n",
       " 232: 17629255.18,\n",
       " 233: 23877431.85,\n",
       " 234: 14349983.16,\n",
       " 235: 13717059.41,\n",
       " 236: 15612428.69,\n",
       " 237: 17805237.06,\n",
       " 238: 23930753.22,\n",
       " 239: 35341132.09,\n",
       " 240: 31876834.21,\n",
       " 241: 6739912.199999999,\n",
       " 242: 11382527.22,\n",
       " 243: 31051876.07,\n",
       " 244: 7579269.18,\n",
       " 245: 18468051.34,\n",
       " 246: 13152125.89,\n",
       " 247: 5883544.710000001,\n",
       " 248: 11206018.549999999,\n",
       " 249: 7569664.51,\n",
       " 250: 6248865.82}"
      ]
     },
     "execution_count": 17,
     "metadata": {},
     "output_type": "execute_result"
    }
   ],
   "source": [
    "sellerID_val"
   ]
  },
  {
   "cell_type": "code",
   "execution_count": 18,
   "metadata": {},
   "outputs": [],
   "source": [
    "# Create a list of tuples sorted by index 1 i.e. value field     \n",
    "listofTuples = sorted(sellerID_val.items() , reverse=True, key=lambda x: x[1])"
   ]
  },
  {
   "cell_type": "code",
   "execution_count": 19,
   "metadata": {},
   "outputs": [
    {
     "data": {
      "text/plain": [
       "[(205, 41008652.59),\n",
       " (239, 35341132.09),\n",
       " (155, 35058220.339999996),\n",
       " (164, 34988674.989999995),\n",
       " (180, 33773460.55),\n",
       " (240, 31876834.21),\n",
       " (243, 31051876.07),\n",
       " (144, 28267964.52),\n",
       " (220, 27806123.760000005),\n",
       " (200, 27608861.58),\n",
       " (190, 27446451.490000006),\n",
       " (202, 27124995.939999998),\n",
       " (170, 27055692.759999998),\n",
       " (111, 25459571.790000003),\n",
       " (238, 23930753.22),\n",
       " (233, 23877431.85),\n",
       " (175, 23274218.12),\n",
       " (150, 23063938.95),\n",
       " (136, 22228011.7),\n",
       " (165, 22072607.919999998),\n",
       " (139, 21179927.72),\n",
       " (188, 20443337.7),\n",
       " (146, 20312939.17),\n",
       " (142, 20025716.09),\n",
       " (189, 19429443.669999998),\n",
       " (159, 19107591.72),\n",
       " (123, 19054371.84),\n",
       " (245, 18468051.34),\n",
       " (141, 18257468.96),\n",
       " (167, 18162697.0),\n",
       " (237, 17805237.06),\n",
       " (232, 17629255.18),\n",
       " (140, 17272772.04),\n",
       " (133, 16901397.68),\n",
       " (132, 16325283.190000001),\n",
       " (112, 16231455.64),\n",
       " (181, 16208762.079999998),\n",
       " (128, 15960903.469999999),\n",
       " (230, 15878486.950000001),\n",
       " (171, 15754934.940000001),\n",
       " (160, 15737092.959999999),\n",
       " (236, 15612428.69),\n",
       " (176, 15421054.84),\n",
       " (183, 15216315.0),\n",
       " (134, 15177305.61),\n",
       " (131, 14929290.850000001),\n",
       " (156, 14824261.41),\n",
       " (113, 14705169.35),\n",
       " (147, 14685243.24),\n",
       " (126, 14604591.13),\n",
       " (135, 14502444.120000001),\n",
       " (207, 14487694.52),\n",
       " (234, 14349983.16),\n",
       " (168, 14194076.379999999),\n",
       " (157, 14177695.64),\n",
       " (163, 13969415.77),\n",
       " (125, 13938312.3),\n",
       " (117, 13733834.09),\n",
       " (235, 13717059.41),\n",
       " (228, 13669245.030000001),\n",
       " (166, 13543837.11),\n",
       " (153, 13520210.73),\n",
       " (143, 13185984.799999999),\n",
       " (246, 13152125.89),\n",
       " (169, 12803747.19),\n",
       " (198, 12565367.2),\n",
       " (154, 12157021.92),\n",
       " (158, 12063969.229999999),\n",
       " (145, 11926360.32),\n",
       " (192, 11917139.7),\n",
       " (194, 11905931.8),\n",
       " (118, 11606884.280000001),\n",
       " (184, 11604818.739999998),\n",
       " (162, 11568316.58),\n",
       " (129, 11412516.46),\n",
       " (242, 11382527.22),\n",
       " (172, 11298548.390000002),\n",
       " (137, 11277019.55),\n",
       " (248, 11206018.549999999),\n",
       " (122, 11055384.239999998),\n",
       " (182, 10879489.34),\n",
       " (115, 10581519.020000001),\n",
       " (186, 10537445.190000001),\n",
       " (179, 10517880.77),\n",
       " (204, 10390644.55),\n",
       " (174, 10371569.79),\n",
       " (124, 10225417.520000001),\n",
       " (215, 9813942.9),\n",
       " (116, 9507531.620000001),\n",
       " (127, 9291018.100000001),\n",
       " (148, 9151229.83),\n",
       " (216, 9111562.5),\n",
       " (130, 8860217.31),\n",
       " (121, 8822153.95),\n",
       " (206, 8753246.760000002),\n",
       " (149, 8721766.079999998),\n",
       " (208, 8679478.77),\n",
       " (177, 8621783.86),\n",
       " (185, 8539406.48),\n",
       " (229, 8516526.42),\n",
       " (161, 8451758.94),\n",
       " (173, 8312695.600000001),\n",
       " (120, 8177658.9399999995),\n",
       " (151, 7749005.180000001),\n",
       " (244, 7579269.18),\n",
       " (187, 7578696.1899999995),\n",
       " (249, 7569664.51),\n",
       " (199, 7514787.05),\n",
       " (223, 7362359.66),\n",
       " (214, 7296583.789999999),\n",
       " (219, 7252567.89),\n",
       " (211, 6837890.52),\n",
       " (241, 6739912.199999999),\n",
       " (225, 6739573.98),\n",
       " (224, 6544541.51),\n",
       " (138, 6342087.819999999),\n",
       " (213, 6266996.54),\n",
       " (250, 6248865.82),\n",
       " (221, 5951960.23),\n",
       " (247, 5883544.710000001),\n",
       " (227, 5818891.010000001),\n",
       " (178, 5617211.82),\n",
       " (203, 5560293.53),\n",
       " (152, 5434323.58),\n",
       " (114, 5412785.42),\n",
       " (222, 5309961.95),\n",
       " (210, 5000793.82),\n",
       " (217, 4854344.64),\n",
       " (209, 4662200.58),\n",
       " (218, 4464475.89),\n",
       " (212, 4298600.08),\n",
       " (191, 4268515.0600000005),\n",
       " (195, 4135203.16),\n",
       " (231, 3901467.84),\n",
       " (226, 3692630.91),\n",
       " (201, 3055122.8500000006),\n",
       " (193, 3016154.21),\n",
       " (197, 2828800.36),\n",
       " (119, 2501306.47),\n",
       " (196, 1734022.44)]"
      ]
     },
     "execution_count": 19,
     "metadata": {},
     "output_type": "execute_result"
    }
   ],
   "source": [
    "listofTuples"
   ]
  },
  {
   "cell_type": "code",
   "execution_count": 20,
   "metadata": {},
   "outputs": [],
   "source": [
    "topSellers=dict(listofTuples)"
   ]
  },
  {
   "cell_type": "code",
   "execution_count": 21,
   "metadata": {},
   "outputs": [
    {
     "data": {
      "text/plain": [
       "{205: 41008652.59,\n",
       " 239: 35341132.09,\n",
       " 155: 35058220.339999996,\n",
       " 164: 34988674.989999995,\n",
       " 180: 33773460.55,\n",
       " 240: 31876834.21,\n",
       " 243: 31051876.07,\n",
       " 144: 28267964.52,\n",
       " 220: 27806123.760000005,\n",
       " 200: 27608861.58,\n",
       " 190: 27446451.490000006,\n",
       " 202: 27124995.939999998,\n",
       " 170: 27055692.759999998,\n",
       " 111: 25459571.790000003,\n",
       " 238: 23930753.22,\n",
       " 233: 23877431.85,\n",
       " 175: 23274218.12,\n",
       " 150: 23063938.95,\n",
       " 136: 22228011.7,\n",
       " 165: 22072607.919999998,\n",
       " 139: 21179927.72,\n",
       " 188: 20443337.7,\n",
       " 146: 20312939.17,\n",
       " 142: 20025716.09,\n",
       " 189: 19429443.669999998,\n",
       " 159: 19107591.72,\n",
       " 123: 19054371.84,\n",
       " 245: 18468051.34,\n",
       " 141: 18257468.96,\n",
       " 167: 18162697.0,\n",
       " 237: 17805237.06,\n",
       " 232: 17629255.18,\n",
       " 140: 17272772.04,\n",
       " 133: 16901397.68,\n",
       " 132: 16325283.190000001,\n",
       " 112: 16231455.64,\n",
       " 181: 16208762.079999998,\n",
       " 128: 15960903.469999999,\n",
       " 230: 15878486.950000001,\n",
       " 171: 15754934.940000001,\n",
       " 160: 15737092.959999999,\n",
       " 236: 15612428.69,\n",
       " 176: 15421054.84,\n",
       " 183: 15216315.0,\n",
       " 134: 15177305.61,\n",
       " 131: 14929290.850000001,\n",
       " 156: 14824261.41,\n",
       " 113: 14705169.35,\n",
       " 147: 14685243.24,\n",
       " 126: 14604591.13,\n",
       " 135: 14502444.120000001,\n",
       " 207: 14487694.52,\n",
       " 234: 14349983.16,\n",
       " 168: 14194076.379999999,\n",
       " 157: 14177695.64,\n",
       " 163: 13969415.77,\n",
       " 125: 13938312.3,\n",
       " 117: 13733834.09,\n",
       " 235: 13717059.41,\n",
       " 228: 13669245.030000001,\n",
       " 166: 13543837.11,\n",
       " 153: 13520210.73,\n",
       " 143: 13185984.799999999,\n",
       " 246: 13152125.89,\n",
       " 169: 12803747.19,\n",
       " 198: 12565367.2,\n",
       " 154: 12157021.92,\n",
       " 158: 12063969.229999999,\n",
       " 145: 11926360.32,\n",
       " 192: 11917139.7,\n",
       " 194: 11905931.8,\n",
       " 118: 11606884.280000001,\n",
       " 184: 11604818.739999998,\n",
       " 162: 11568316.58,\n",
       " 129: 11412516.46,\n",
       " 242: 11382527.22,\n",
       " 172: 11298548.390000002,\n",
       " 137: 11277019.55,\n",
       " 248: 11206018.549999999,\n",
       " 122: 11055384.239999998,\n",
       " 182: 10879489.34,\n",
       " 115: 10581519.020000001,\n",
       " 186: 10537445.190000001,\n",
       " 179: 10517880.77,\n",
       " 204: 10390644.55,\n",
       " 174: 10371569.79,\n",
       " 124: 10225417.520000001,\n",
       " 215: 9813942.9,\n",
       " 116: 9507531.620000001,\n",
       " 127: 9291018.100000001,\n",
       " 148: 9151229.83,\n",
       " 216: 9111562.5,\n",
       " 130: 8860217.31,\n",
       " 121: 8822153.95,\n",
       " 206: 8753246.760000002,\n",
       " 149: 8721766.079999998,\n",
       " 208: 8679478.77,\n",
       " 177: 8621783.86,\n",
       " 185: 8539406.48,\n",
       " 229: 8516526.42,\n",
       " 161: 8451758.94,\n",
       " 173: 8312695.600000001,\n",
       " 120: 8177658.9399999995,\n",
       " 151: 7749005.180000001,\n",
       " 244: 7579269.18,\n",
       " 187: 7578696.1899999995,\n",
       " 249: 7569664.51,\n",
       " 199: 7514787.05,\n",
       " 223: 7362359.66,\n",
       " 214: 7296583.789999999,\n",
       " 219: 7252567.89,\n",
       " 211: 6837890.52,\n",
       " 241: 6739912.199999999,\n",
       " 225: 6739573.98,\n",
       " 224: 6544541.51,\n",
       " 138: 6342087.819999999,\n",
       " 213: 6266996.54,\n",
       " 250: 6248865.82,\n",
       " 221: 5951960.23,\n",
       " 247: 5883544.710000001,\n",
       " 227: 5818891.010000001,\n",
       " 178: 5617211.82,\n",
       " 203: 5560293.53,\n",
       " 152: 5434323.58,\n",
       " 114: 5412785.42,\n",
       " 222: 5309961.95,\n",
       " 210: 5000793.82,\n",
       " 217: 4854344.64,\n",
       " 209: 4662200.58,\n",
       " 218: 4464475.89,\n",
       " 212: 4298600.08,\n",
       " 191: 4268515.0600000005,\n",
       " 195: 4135203.16,\n",
       " 231: 3901467.84,\n",
       " 226: 3692630.91,\n",
       " 201: 3055122.8500000006,\n",
       " 193: 3016154.21,\n",
       " 197: 2828800.36,\n",
       " 119: 2501306.47,\n",
       " 196: 1734022.44}"
      ]
     },
     "execution_count": 21,
     "metadata": {},
     "output_type": "execute_result"
    }
   ],
   "source": [
    "topSellers"
   ]
  },
  {
   "cell_type": "code",
   "execution_count": 22,
   "metadata": {},
   "outputs": [],
   "source": [
    "import itertools\n",
    "top=dict(itertools.islice(topSellers.items(),5))"
   ]
  },
  {
   "cell_type": "code",
   "execution_count": 29,
   "metadata": {},
   "outputs": [
    {
     "data": {
      "text/plain": [
       "{205: 41008652.59,\n",
       " 239: 35341132.09,\n",
       " 155: 35058220.339999996,\n",
       " 164: 34988674.989999995,\n",
       " 180: 33773460.55}"
      ]
     },
     "execution_count": 29,
     "metadata": {},
     "output_type": "execute_result"
    }
   ],
   "source": [
    "top"
   ]
  },
  {
   "cell_type": "code",
   "execution_count": 24,
   "metadata": {},
   "outputs": [],
   "source": [
    "def getList(dict): \n",
    "    list = [] \n",
    "    for key in dict.keys(): \n",
    "        list.append(key) \n",
    "          \n",
    "    return list\n",
    "\n",
    "topID=getList(top)"
   ]
  },
  {
   "cell_type": "code",
   "execution_count": 25,
   "metadata": {},
   "outputs": [
    {
     "data": {
      "text/plain": [
       "[205, 239, 155, 164, 180]"
      ]
     },
     "execution_count": 25,
     "metadata": {},
     "output_type": "execute_result"
    }
   ],
   "source": [
    "topID"
   ]
  },
  {
   "cell_type": "code",
   "execution_count": 26,
   "metadata": {},
   "outputs": [],
   "source": [
    "from datetime import datetime\n",
    "import pandas as pd\n",
    "\n",
    "totDataset['Bill_Date']=totDataset['Bill_Date'].apply(lambda x: datetime.strptime(x, '%m/%d/%Y'))"
   ]
  },
  {
   "cell_type": "code",
   "execution_count": 39,
   "metadata": {},
   "outputs": [
    {
     "data": {
      "text/plain": [
       "Sr No\n",
       "1      2019-11-10\n",
       "2      2019-10-07\n",
       "3      2019-02-19\n",
       "4      2019-11-13\n",
       "5      2019-02-07\n",
       "          ...    \n",
       "1014   2019-11-19\n",
       "1015   2019-07-24\n",
       "1016   2019-02-02\n",
       "1017   2019-02-13\n",
       "1018   2019-12-16\n",
       "Name: Bill_Date, Length: 1018, dtype: datetime64[ns]"
      ]
     },
     "execution_count": 39,
     "metadata": {},
     "output_type": "execute_result"
    }
   ],
   "source": [
    "totDataset['Bill_Date']"
   ]
  },
  {
   "cell_type": "code",
   "execution_count": 37,
   "metadata": {
    "scrolled": false
   },
   "outputs": [
    {
     "ename": "ValueError",
     "evalue": "Mime type rendering requires nbformat>=4.2.0 but it is not installed",
     "output_type": "error",
     "traceback": [
      "\u001b[0;31m---------------------------------------------------------------------------\u001b[0m",
      "\u001b[0;31mValueError\u001b[0m                                Traceback (most recent call last)",
      "\u001b[0;32m<ipython-input-37-d3e8786cbdeb>\u001b[0m in \u001b[0;36m<module>\u001b[0;34m\u001b[0m\n\u001b[1;32m     15\u001b[0m \u001b[0;31m#     writer.save()\u001b[0m\u001b[0;34m\u001b[0m\u001b[0;34m\u001b[0m\u001b[0;34m\u001b[0m\u001b[0m\n\u001b[1;32m     16\u001b[0m     \u001b[0mfig\u001b[0m \u001b[0;34m=\u001b[0m \u001b[0mpx\u001b[0m\u001b[0;34m.\u001b[0m\u001b[0mline\u001b[0m\u001b[0;34m(\u001b[0m\u001b[0mconv_csv\u001b[0m\u001b[0;34m,\u001b[0m \u001b[0mx\u001b[0m\u001b[0;34m=\u001b[0m\u001b[0;34m'Date'\u001b[0m\u001b[0;34m,\u001b[0m \u001b[0my\u001b[0m\u001b[0;34m=\u001b[0m\u001b[0;34m'Revenue'\u001b[0m\u001b[0;34m)\u001b[0m\u001b[0;34m\u001b[0m\u001b[0;34m\u001b[0m\u001b[0m\n\u001b[0;32m---> 17\u001b[0;31m     \u001b[0mfig\u001b[0m\u001b[0;34m.\u001b[0m\u001b[0mshow\u001b[0m\u001b[0;34m(\u001b[0m\u001b[0;34m)\u001b[0m\u001b[0;34m\u001b[0m\u001b[0;34m\u001b[0m\u001b[0m\n\u001b[0m",
      "\u001b[0;32m~/.local/lib/python3.6/site-packages/plotly/basedatatypes.py\u001b[0m in \u001b[0;36mshow\u001b[0;34m(self, *args, **kwargs)\u001b[0m\n\u001b[1;32m   2792\u001b[0m         \u001b[0;32mimport\u001b[0m \u001b[0mplotly\u001b[0m\u001b[0;34m.\u001b[0m\u001b[0mio\u001b[0m \u001b[0;32mas\u001b[0m \u001b[0mpio\u001b[0m\u001b[0;34m\u001b[0m\u001b[0;34m\u001b[0m\u001b[0m\n\u001b[1;32m   2793\u001b[0m \u001b[0;34m\u001b[0m\u001b[0m\n\u001b[0;32m-> 2794\u001b[0;31m         \u001b[0;32mreturn\u001b[0m \u001b[0mpio\u001b[0m\u001b[0;34m.\u001b[0m\u001b[0mshow\u001b[0m\u001b[0;34m(\u001b[0m\u001b[0mself\u001b[0m\u001b[0;34m,\u001b[0m \u001b[0;34m*\u001b[0m\u001b[0margs\u001b[0m\u001b[0;34m,\u001b[0m \u001b[0;34m**\u001b[0m\u001b[0mkwargs\u001b[0m\u001b[0;34m)\u001b[0m\u001b[0;34m\u001b[0m\u001b[0;34m\u001b[0m\u001b[0m\n\u001b[0m\u001b[1;32m   2795\u001b[0m \u001b[0;34m\u001b[0m\u001b[0m\n\u001b[1;32m   2796\u001b[0m     \u001b[0;32mdef\u001b[0m \u001b[0mto_json\u001b[0m\u001b[0;34m(\u001b[0m\u001b[0mself\u001b[0m\u001b[0;34m,\u001b[0m \u001b[0;34m*\u001b[0m\u001b[0margs\u001b[0m\u001b[0;34m,\u001b[0m \u001b[0;34m**\u001b[0m\u001b[0mkwargs\u001b[0m\u001b[0;34m)\u001b[0m\u001b[0;34m:\u001b[0m\u001b[0;34m\u001b[0m\u001b[0;34m\u001b[0m\u001b[0m\n",
      "\u001b[0;32m~/.local/lib/python3.6/site-packages/plotly/io/_renderers.py\u001b[0m in \u001b[0;36mshow\u001b[0;34m(fig, renderer, validate, **kwargs)\u001b[0m\n\u001b[1;32m    383\u001b[0m         \u001b[0;32mif\u001b[0m \u001b[0;32mnot\u001b[0m \u001b[0mnbformat\u001b[0m \u001b[0;32mor\u001b[0m \u001b[0mLooseVersion\u001b[0m\u001b[0;34m(\u001b[0m\u001b[0mnbformat\u001b[0m\u001b[0;34m.\u001b[0m\u001b[0m__version__\u001b[0m\u001b[0;34m)\u001b[0m \u001b[0;34m<\u001b[0m \u001b[0mLooseVersion\u001b[0m\u001b[0;34m(\u001b[0m\u001b[0;34m\"4.2.0\"\u001b[0m\u001b[0;34m)\u001b[0m\u001b[0;34m:\u001b[0m\u001b[0;34m\u001b[0m\u001b[0;34m\u001b[0m\u001b[0m\n\u001b[1;32m    384\u001b[0m             raise ValueError(\n\u001b[0;32m--> 385\u001b[0;31m                 \u001b[0;34m\"Mime type rendering requires nbformat>=4.2.0 but it is not installed\"\u001b[0m\u001b[0;34m\u001b[0m\u001b[0;34m\u001b[0m\u001b[0m\n\u001b[0m\u001b[1;32m    386\u001b[0m             )\n\u001b[1;32m    387\u001b[0m \u001b[0;34m\u001b[0m\u001b[0m\n",
      "\u001b[0;31mValueError\u001b[0m: Mime type rendering requires nbformat>=4.2.0 but it is not installed"
     ]
    }
   ],
   "source": [
    "from pandas import ExcelWriter\n",
    "import plotly.express as px\n",
    "for i in topID:\n",
    "    d=totDataset.Bill_Date[totDataset.Sellers_ID == i]\n",
    "    d=list(d)\n",
    "    rev=totDataset.Value[totDataset.Sellers_ID == i]\n",
    "    rev=list(rev)\n",
    "    conv_csv=pd.DataFrame(\n",
    "    {'Date':d,\n",
    "     'Revenue':rev\n",
    "    })\n",
    "#     df.to_csv('my_csv.csv', mode='a', header=False)\n",
    "#     writer = ExcelWriter(str(i)+'rev.xlsx')\n",
    "#     conv_csv.to_excel(writer)\n",
    "#     writer.save()\n",
    "    fig = px.line(conv_csv, x='Date', y='Revenue')\n",
    "    fig.show()"
   ]
  },
  {
   "cell_type": "code",
   "execution_count": 38,
   "metadata": {},
   "outputs": [
    {
     "ename": "ValueError",
     "evalue": "Mime type rendering requires nbformat>=4.2.0 but it is not installed",
     "output_type": "error",
     "traceback": [
      "\u001b[0;31m---------------------------------------------------------------------------\u001b[0m",
      "\u001b[0;31mValueError\u001b[0m                                Traceback (most recent call last)",
      "\u001b[0;32m<ipython-input-38-53b94d04d92e>\u001b[0m in \u001b[0;36m<module>\u001b[0;34m\u001b[0m\n\u001b[1;32m      6\u001b[0m \u001b[0;34m\u001b[0m\u001b[0m\n\u001b[1;32m      7\u001b[0m \u001b[0mfig\u001b[0m \u001b[0;34m=\u001b[0m \u001b[0mpx\u001b[0m\u001b[0;34m.\u001b[0m\u001b[0mline\u001b[0m\u001b[0;34m(\u001b[0m\u001b[0mdf\u001b[0m\u001b[0;34m,\u001b[0m \u001b[0mx\u001b[0m\u001b[0;34m=\u001b[0m\u001b[0;34m'Date'\u001b[0m\u001b[0;34m,\u001b[0m \u001b[0my\u001b[0m\u001b[0;34m=\u001b[0m\u001b[0;34m'AAPL.High'\u001b[0m\u001b[0;34m)\u001b[0m\u001b[0;34m\u001b[0m\u001b[0;34m\u001b[0m\u001b[0m\n\u001b[0;32m----> 8\u001b[0;31m \u001b[0mfig\u001b[0m\u001b[0;34m.\u001b[0m\u001b[0mshow\u001b[0m\u001b[0;34m(\u001b[0m\u001b[0;34m)\u001b[0m\u001b[0;34m\u001b[0m\u001b[0;34m\u001b[0m\u001b[0m\n\u001b[0m",
      "\u001b[0;32m~/.local/lib/python3.6/site-packages/plotly/basedatatypes.py\u001b[0m in \u001b[0;36mshow\u001b[0;34m(self, *args, **kwargs)\u001b[0m\n\u001b[1;32m   2792\u001b[0m         \u001b[0;32mimport\u001b[0m \u001b[0mplotly\u001b[0m\u001b[0;34m.\u001b[0m\u001b[0mio\u001b[0m \u001b[0;32mas\u001b[0m \u001b[0mpio\u001b[0m\u001b[0;34m\u001b[0m\u001b[0;34m\u001b[0m\u001b[0m\n\u001b[1;32m   2793\u001b[0m \u001b[0;34m\u001b[0m\u001b[0m\n\u001b[0;32m-> 2794\u001b[0;31m         \u001b[0;32mreturn\u001b[0m \u001b[0mpio\u001b[0m\u001b[0;34m.\u001b[0m\u001b[0mshow\u001b[0m\u001b[0;34m(\u001b[0m\u001b[0mself\u001b[0m\u001b[0;34m,\u001b[0m \u001b[0;34m*\u001b[0m\u001b[0margs\u001b[0m\u001b[0;34m,\u001b[0m \u001b[0;34m**\u001b[0m\u001b[0mkwargs\u001b[0m\u001b[0;34m)\u001b[0m\u001b[0;34m\u001b[0m\u001b[0;34m\u001b[0m\u001b[0m\n\u001b[0m\u001b[1;32m   2795\u001b[0m \u001b[0;34m\u001b[0m\u001b[0m\n\u001b[1;32m   2796\u001b[0m     \u001b[0;32mdef\u001b[0m \u001b[0mto_json\u001b[0m\u001b[0;34m(\u001b[0m\u001b[0mself\u001b[0m\u001b[0;34m,\u001b[0m \u001b[0;34m*\u001b[0m\u001b[0margs\u001b[0m\u001b[0;34m,\u001b[0m \u001b[0;34m**\u001b[0m\u001b[0mkwargs\u001b[0m\u001b[0;34m)\u001b[0m\u001b[0;34m:\u001b[0m\u001b[0;34m\u001b[0m\u001b[0;34m\u001b[0m\u001b[0m\n",
      "\u001b[0;32m~/.local/lib/python3.6/site-packages/plotly/io/_renderers.py\u001b[0m in \u001b[0;36mshow\u001b[0;34m(fig, renderer, validate, **kwargs)\u001b[0m\n\u001b[1;32m    383\u001b[0m         \u001b[0;32mif\u001b[0m \u001b[0;32mnot\u001b[0m \u001b[0mnbformat\u001b[0m \u001b[0;32mor\u001b[0m \u001b[0mLooseVersion\u001b[0m\u001b[0;34m(\u001b[0m\u001b[0mnbformat\u001b[0m\u001b[0;34m.\u001b[0m\u001b[0m__version__\u001b[0m\u001b[0;34m)\u001b[0m \u001b[0;34m<\u001b[0m \u001b[0mLooseVersion\u001b[0m\u001b[0;34m(\u001b[0m\u001b[0;34m\"4.2.0\"\u001b[0m\u001b[0;34m)\u001b[0m\u001b[0;34m:\u001b[0m\u001b[0;34m\u001b[0m\u001b[0;34m\u001b[0m\u001b[0m\n\u001b[1;32m    384\u001b[0m             raise ValueError(\n\u001b[0;32m--> 385\u001b[0;31m                 \u001b[0;34m\"Mime type rendering requires nbformat>=4.2.0 but it is not installed\"\u001b[0m\u001b[0;34m\u001b[0m\u001b[0;34m\u001b[0m\u001b[0m\n\u001b[0m\u001b[1;32m    386\u001b[0m             )\n\u001b[1;32m    387\u001b[0m \u001b[0;34m\u001b[0m\u001b[0m\n",
      "\u001b[0;31mValueError\u001b[0m: Mime type rendering requires nbformat>=4.2.0 but it is not installed"
     ]
    }
   ],
   "source": [
    "#sample time-series graph\n",
    "import plotly.express as px\n",
    "\n",
    "import pandas as pd\n",
    "df = pd.read_csv('https://raw.githubusercontent.com/plotly/datasets/master/finance-charts-apple.csv')\n",
    "\n",
    "fig = px.line(df, x='Date', y='AAPL.High')\n",
    "fig.show()"
   ]
  },
  {
   "cell_type": "code",
   "execution_count": 39,
   "metadata": {},
   "outputs": [
    {
     "ename": "ValueError",
     "evalue": "time data '04-05-2019' does not match format '%m/%d/%Y'",
     "output_type": "error",
     "traceback": [
      "\u001b[1;31m---------------------------------------------------------------------------\u001b[0m",
      "\u001b[1;31mValueError\u001b[0m                                Traceback (most recent call last)",
      "\u001b[1;32m<ipython-input-39-cd3d05e5cac2>\u001b[0m in \u001b[0;36m<module>\u001b[1;34m\u001b[0m\n\u001b[0;32m      4\u001b[0m \u001b[0mdf\u001b[0m \u001b[1;33m=\u001b[0m \u001b[0mpd\u001b[0m\u001b[1;33m.\u001b[0m\u001b[0mread_csv\u001b[0m\u001b[1;33m(\u001b[0m\u001b[1;34m'e1.csv'\u001b[0m\u001b[1;33m)\u001b[0m\u001b[1;33m\u001b[0m\u001b[1;33m\u001b[0m\u001b[0m\n\u001b[0;32m      5\u001b[0m \u001b[1;33m\u001b[0m\u001b[0m\n\u001b[1;32m----> 6\u001b[1;33m \u001b[0mdf\u001b[0m\u001b[1;33m[\u001b[0m\u001b[1;34m'Date'\u001b[0m\u001b[1;33m]\u001b[0m\u001b[1;33m=\u001b[0m\u001b[0mdf\u001b[0m\u001b[1;33m[\u001b[0m\u001b[1;34m'Date'\u001b[0m\u001b[1;33m]\u001b[0m\u001b[1;33m.\u001b[0m\u001b[0mapply\u001b[0m\u001b[1;33m(\u001b[0m\u001b[1;32mlambda\u001b[0m \u001b[0mx\u001b[0m\u001b[1;33m:\u001b[0m \u001b[0mdatetime\u001b[0m\u001b[1;33m.\u001b[0m\u001b[0mstrptime\u001b[0m\u001b[1;33m(\u001b[0m\u001b[0mx\u001b[0m\u001b[1;33m,\u001b[0m \u001b[1;34m'%m/%d/%Y'\u001b[0m\u001b[1;33m)\u001b[0m\u001b[1;33m)\u001b[0m\u001b[1;33m\u001b[0m\u001b[1;33m\u001b[0m\u001b[0m\n\u001b[0m",
      "\u001b[1;32m~\\Anaconda3\\lib\\site-packages\\pandas\\core\\series.py\u001b[0m in \u001b[0;36mapply\u001b[1;34m(self, func, convert_dtype, args, **kwds)\u001b[0m\n\u001b[0;32m   4040\u001b[0m             \u001b[1;32melse\u001b[0m\u001b[1;33m:\u001b[0m\u001b[1;33m\u001b[0m\u001b[1;33m\u001b[0m\u001b[0m\n\u001b[0;32m   4041\u001b[0m                 \u001b[0mvalues\u001b[0m \u001b[1;33m=\u001b[0m \u001b[0mself\u001b[0m\u001b[1;33m.\u001b[0m\u001b[0mastype\u001b[0m\u001b[1;33m(\u001b[0m\u001b[0mobject\u001b[0m\u001b[1;33m)\u001b[0m\u001b[1;33m.\u001b[0m\u001b[0mvalues\u001b[0m\u001b[1;33m\u001b[0m\u001b[1;33m\u001b[0m\u001b[0m\n\u001b[1;32m-> 4042\u001b[1;33m                 \u001b[0mmapped\u001b[0m \u001b[1;33m=\u001b[0m \u001b[0mlib\u001b[0m\u001b[1;33m.\u001b[0m\u001b[0mmap_infer\u001b[0m\u001b[1;33m(\u001b[0m\u001b[0mvalues\u001b[0m\u001b[1;33m,\u001b[0m \u001b[0mf\u001b[0m\u001b[1;33m,\u001b[0m \u001b[0mconvert\u001b[0m\u001b[1;33m=\u001b[0m\u001b[0mconvert_dtype\u001b[0m\u001b[1;33m)\u001b[0m\u001b[1;33m\u001b[0m\u001b[1;33m\u001b[0m\u001b[0m\n\u001b[0m\u001b[0;32m   4043\u001b[0m \u001b[1;33m\u001b[0m\u001b[0m\n\u001b[0;32m   4044\u001b[0m         \u001b[1;32mif\u001b[0m \u001b[0mlen\u001b[0m\u001b[1;33m(\u001b[0m\u001b[0mmapped\u001b[0m\u001b[1;33m)\u001b[0m \u001b[1;32mand\u001b[0m \u001b[0misinstance\u001b[0m\u001b[1;33m(\u001b[0m\u001b[0mmapped\u001b[0m\u001b[1;33m[\u001b[0m\u001b[1;36m0\u001b[0m\u001b[1;33m]\u001b[0m\u001b[1;33m,\u001b[0m \u001b[0mSeries\u001b[0m\u001b[1;33m)\u001b[0m\u001b[1;33m:\u001b[0m\u001b[1;33m\u001b[0m\u001b[1;33m\u001b[0m\u001b[0m\n",
      "\u001b[1;32mpandas\\_libs\\lib.pyx\u001b[0m in \u001b[0;36mpandas._libs.lib.map_infer\u001b[1;34m()\u001b[0m\n",
      "\u001b[1;32m<ipython-input-39-cd3d05e5cac2>\u001b[0m in \u001b[0;36m<lambda>\u001b[1;34m(x)\u001b[0m\n\u001b[0;32m      4\u001b[0m \u001b[0mdf\u001b[0m \u001b[1;33m=\u001b[0m \u001b[0mpd\u001b[0m\u001b[1;33m.\u001b[0m\u001b[0mread_csv\u001b[0m\u001b[1;33m(\u001b[0m\u001b[1;34m'e1.csv'\u001b[0m\u001b[1;33m)\u001b[0m\u001b[1;33m\u001b[0m\u001b[1;33m\u001b[0m\u001b[0m\n\u001b[0;32m      5\u001b[0m \u001b[1;33m\u001b[0m\u001b[0m\n\u001b[1;32m----> 6\u001b[1;33m \u001b[0mdf\u001b[0m\u001b[1;33m[\u001b[0m\u001b[1;34m'Date'\u001b[0m\u001b[1;33m]\u001b[0m\u001b[1;33m=\u001b[0m\u001b[0mdf\u001b[0m\u001b[1;33m[\u001b[0m\u001b[1;34m'Date'\u001b[0m\u001b[1;33m]\u001b[0m\u001b[1;33m.\u001b[0m\u001b[0mapply\u001b[0m\u001b[1;33m(\u001b[0m\u001b[1;32mlambda\u001b[0m \u001b[0mx\u001b[0m\u001b[1;33m:\u001b[0m \u001b[0mdatetime\u001b[0m\u001b[1;33m.\u001b[0m\u001b[0mstrptime\u001b[0m\u001b[1;33m(\u001b[0m\u001b[0mx\u001b[0m\u001b[1;33m,\u001b[0m \u001b[1;34m'%m/%d/%Y'\u001b[0m\u001b[1;33m)\u001b[0m\u001b[1;33m)\u001b[0m\u001b[1;33m\u001b[0m\u001b[1;33m\u001b[0m\u001b[0m\n\u001b[0m",
      "\u001b[1;32m~\\Anaconda3\\lib\\_strptime.py\u001b[0m in \u001b[0;36m_strptime_datetime\u001b[1;34m(cls, data_string, format)\u001b[0m\n\u001b[0;32m    575\u001b[0m     \"\"\"Return a class cls instance based on the input string and the\n\u001b[0;32m    576\u001b[0m     format string.\"\"\"\n\u001b[1;32m--> 577\u001b[1;33m     \u001b[0mtt\u001b[0m\u001b[1;33m,\u001b[0m \u001b[0mfraction\u001b[0m\u001b[1;33m,\u001b[0m \u001b[0mgmtoff_fraction\u001b[0m \u001b[1;33m=\u001b[0m \u001b[0m_strptime\u001b[0m\u001b[1;33m(\u001b[0m\u001b[0mdata_string\u001b[0m\u001b[1;33m,\u001b[0m \u001b[0mformat\u001b[0m\u001b[1;33m)\u001b[0m\u001b[1;33m\u001b[0m\u001b[1;33m\u001b[0m\u001b[0m\n\u001b[0m\u001b[0;32m    578\u001b[0m     \u001b[0mtzname\u001b[0m\u001b[1;33m,\u001b[0m \u001b[0mgmtoff\u001b[0m \u001b[1;33m=\u001b[0m \u001b[0mtt\u001b[0m\u001b[1;33m[\u001b[0m\u001b[1;33m-\u001b[0m\u001b[1;36m2\u001b[0m\u001b[1;33m:\u001b[0m\u001b[1;33m]\u001b[0m\u001b[1;33m\u001b[0m\u001b[1;33m\u001b[0m\u001b[0m\n\u001b[0;32m    579\u001b[0m     \u001b[0margs\u001b[0m \u001b[1;33m=\u001b[0m \u001b[0mtt\u001b[0m\u001b[1;33m[\u001b[0m\u001b[1;33m:\u001b[0m\u001b[1;36m6\u001b[0m\u001b[1;33m]\u001b[0m \u001b[1;33m+\u001b[0m \u001b[1;33m(\u001b[0m\u001b[0mfraction\u001b[0m\u001b[1;33m,\u001b[0m\u001b[1;33m)\u001b[0m\u001b[1;33m\u001b[0m\u001b[1;33m\u001b[0m\u001b[0m\n",
      "\u001b[1;32m~\\Anaconda3\\lib\\_strptime.py\u001b[0m in \u001b[0;36m_strptime\u001b[1;34m(data_string, format)\u001b[0m\n\u001b[0;32m    357\u001b[0m     \u001b[1;32mif\u001b[0m \u001b[1;32mnot\u001b[0m \u001b[0mfound\u001b[0m\u001b[1;33m:\u001b[0m\u001b[1;33m\u001b[0m\u001b[1;33m\u001b[0m\u001b[0m\n\u001b[0;32m    358\u001b[0m         raise ValueError(\"time data %r does not match format %r\" %\n\u001b[1;32m--> 359\u001b[1;33m                          (data_string, format))\n\u001b[0m\u001b[0;32m    360\u001b[0m     \u001b[1;32mif\u001b[0m \u001b[0mlen\u001b[0m\u001b[1;33m(\u001b[0m\u001b[0mdata_string\u001b[0m\u001b[1;33m)\u001b[0m \u001b[1;33m!=\u001b[0m \u001b[0mfound\u001b[0m\u001b[1;33m.\u001b[0m\u001b[0mend\u001b[0m\u001b[1;33m(\u001b[0m\u001b[1;33m)\u001b[0m\u001b[1;33m:\u001b[0m\u001b[1;33m\u001b[0m\u001b[1;33m\u001b[0m\u001b[0m\n\u001b[0;32m    361\u001b[0m         raise ValueError(\"unconverted data remains: %s\" %\n",
      "\u001b[1;31mValueError\u001b[0m: time data '04-05-2019' does not match format '%m/%d/%Y'"
     ]
    }
   ],
   "source": [
    "from datetime import datetime\n",
    "import pandas as pd\n",
    "\n",
    "df = pd.read_csv('e1.csv')\n",
    "\n",
    "df['Date']=df['Date'].apply(lambda x: datetime.strptime(x, '%m/%d/%Y'))"
   ]
  },
  {
   "cell_type": "code",
   "execution_count": 37,
   "metadata": {},
   "outputs": [
    {
     "data": {
      "application/vnd.plotly.v1+json": {
       "config": {
        "plotlyServerURL": "https://plot.ly"
       },
       "data": [
        {
         "hoverlabel": {
          "namelength": 0
         },
         "hovertemplate": "Date=%{x}<br>Revenue=%{y}",
         "legendgroup": "",
         "line": {
          "color": "#636efa",
          "dash": "solid"
         },
         "mode": "lines",
         "name": "",
         "showlegend": false,
         "type": "scatter",
         "x": [
          "04-05-2019",
          "05/29/2019",
          "05/29/2019",
          "05/29/2019",
          "05/29/2019",
          "05/29/2019",
          "05/29/2019",
          "11-10-2019",
          "11-10-2019",
          "11-10-2019",
          "11-10-2019",
          "11-10-2019",
          "11-10-2019",
          "11-10-2019",
          "11-10-2019",
          "05-03-2019",
          "05-10-2019",
          "05-10-2019",
          "12/30/2019",
          "03/17/2019",
          "11/23/2019",
          "10-07-2019",
          "03/13/2019",
          "03/13/2019",
          "03/13/2019",
          "03/13/2019",
          "03/13/2019",
          "03/13/2019",
          "03/13/2019",
          "03/13/2019",
          "03/15/2019",
          "10-10-2019",
          "10-10-2019",
          "10-10-2019",
          "12/27/2019",
          "02/19/2019",
          "02/19/2019",
          "02/19/2019",
          "02/19/2019",
          "02/19/2019",
          "06-11-2019",
          "02-08-2019",
          "10/31/2019",
          "06/17/2019",
          "10/31/2019",
          "06/17/2019",
          "09/22/2019",
          "11-12-2019",
          "03/27/2019",
          "03/27/2019",
          "03/27/2019",
          "03/27/2019",
          "03/27/2019",
          "03/27/2019",
          "03/27/2019",
          "03/27/2019",
          "03/27/2019",
          "03/27/2019",
          "05/31/2019",
          "09-03-2019",
          "06/26/2019",
          "06/26/2019",
          "06/26/2019",
          "06/26/2019",
          "06/26/2019",
          "01-12-2019",
          "01-12-2019",
          "01-12-2019",
          "01-12-2019",
          "01-12-2019",
          "01-12-2019",
          "01-12-2019",
          "01-12-2019",
          "11/22/2019",
          "07-06-2019",
          "01/14/2019",
          "01/14/2019"
         ],
         "xaxis": "x",
         "y": [
          5672099.04,
          297154,
          35867.12,
          297154,
          2885625.9,
          1408839.3,
          1971017.2,
          3795330.24,
          5751169.2,
          3549218.54,
          2092701.6,
          1163577.87,
          316024.76,
          2638425.6,
          3795330.24,
          665199.5,
          2704141.44,
          1969777.04,
          2320432.92,
          1754633.79,
          3706274.88,
          4536872.36,
          290498.55,
          1051050,
          5155943.52,
          2747914.88,
          3501224.8,
          2460090.72,
          763316.4,
          2629016.39,
          340945.2,
          1911546.4,
          172116.9,
          1646797.28,
          4809937.86,
          1818926.9,
          1233850.6,
          3920869.8,
          1595961.84,
          3360846.3,
          3110079.96,
          4196922.24,
          2294262.88,
          3619085.12,
          2030336.55,
          1782380.5,
          4722725.28,
          3575959.2,
          3008005.44,
          404271.9,
          3171069.36,
          1832233.44,
          3261387.2,
          2237151.84,
          2359707.09,
          4439706.26,
          2017024.8,
          654659.28,
          3657231,
          4089753.75,
          1720236.5,
          436948.8,
          2114874.84,
          1056768.3,
          4009035.2,
          933426.15,
          1967095.8,
          4331145.6,
          2263580.88,
          2158513.2,
          29339.72,
          251412.54,
          933426.15,
          551239.5,
          2944622.7,
          827250.2,
          4439550.51
         ],
         "yaxis": "y"
        }
       ],
       "layout": {
        "legend": {
         "tracegroupgap": 0
        },
        "margin": {
         "t": 60
        },
        "template": {
         "data": {
          "bar": [
           {
            "error_x": {
             "color": "#2a3f5f"
            },
            "error_y": {
             "color": "#2a3f5f"
            },
            "marker": {
             "line": {
              "color": "#E5ECF6",
              "width": 0.5
             }
            },
            "type": "bar"
           }
          ],
          "barpolar": [
           {
            "marker": {
             "line": {
              "color": "#E5ECF6",
              "width": 0.5
             }
            },
            "type": "barpolar"
           }
          ],
          "carpet": [
           {
            "aaxis": {
             "endlinecolor": "#2a3f5f",
             "gridcolor": "white",
             "linecolor": "white",
             "minorgridcolor": "white",
             "startlinecolor": "#2a3f5f"
            },
            "baxis": {
             "endlinecolor": "#2a3f5f",
             "gridcolor": "white",
             "linecolor": "white",
             "minorgridcolor": "white",
             "startlinecolor": "#2a3f5f"
            },
            "type": "carpet"
           }
          ],
          "choropleth": [
           {
            "colorbar": {
             "outlinewidth": 0,
             "ticks": ""
            },
            "type": "choropleth"
           }
          ],
          "contour": [
           {
            "colorbar": {
             "outlinewidth": 0,
             "ticks": ""
            },
            "colorscale": [
             [
              0,
              "#0d0887"
             ],
             [
              0.1111111111111111,
              "#46039f"
             ],
             [
              0.2222222222222222,
              "#7201a8"
             ],
             [
              0.3333333333333333,
              "#9c179e"
             ],
             [
              0.4444444444444444,
              "#bd3786"
             ],
             [
              0.5555555555555556,
              "#d8576b"
             ],
             [
              0.6666666666666666,
              "#ed7953"
             ],
             [
              0.7777777777777778,
              "#fb9f3a"
             ],
             [
              0.8888888888888888,
              "#fdca26"
             ],
             [
              1,
              "#f0f921"
             ]
            ],
            "type": "contour"
           }
          ],
          "contourcarpet": [
           {
            "colorbar": {
             "outlinewidth": 0,
             "ticks": ""
            },
            "type": "contourcarpet"
           }
          ],
          "heatmap": [
           {
            "colorbar": {
             "outlinewidth": 0,
             "ticks": ""
            },
            "colorscale": [
             [
              0,
              "#0d0887"
             ],
             [
              0.1111111111111111,
              "#46039f"
             ],
             [
              0.2222222222222222,
              "#7201a8"
             ],
             [
              0.3333333333333333,
              "#9c179e"
             ],
             [
              0.4444444444444444,
              "#bd3786"
             ],
             [
              0.5555555555555556,
              "#d8576b"
             ],
             [
              0.6666666666666666,
              "#ed7953"
             ],
             [
              0.7777777777777778,
              "#fb9f3a"
             ],
             [
              0.8888888888888888,
              "#fdca26"
             ],
             [
              1,
              "#f0f921"
             ]
            ],
            "type": "heatmap"
           }
          ],
          "heatmapgl": [
           {
            "colorbar": {
             "outlinewidth": 0,
             "ticks": ""
            },
            "colorscale": [
             [
              0,
              "#0d0887"
             ],
             [
              0.1111111111111111,
              "#46039f"
             ],
             [
              0.2222222222222222,
              "#7201a8"
             ],
             [
              0.3333333333333333,
              "#9c179e"
             ],
             [
              0.4444444444444444,
              "#bd3786"
             ],
             [
              0.5555555555555556,
              "#d8576b"
             ],
             [
              0.6666666666666666,
              "#ed7953"
             ],
             [
              0.7777777777777778,
              "#fb9f3a"
             ],
             [
              0.8888888888888888,
              "#fdca26"
             ],
             [
              1,
              "#f0f921"
             ]
            ],
            "type": "heatmapgl"
           }
          ],
          "histogram": [
           {
            "marker": {
             "colorbar": {
              "outlinewidth": 0,
              "ticks": ""
             }
            },
            "type": "histogram"
           }
          ],
          "histogram2d": [
           {
            "colorbar": {
             "outlinewidth": 0,
             "ticks": ""
            },
            "colorscale": [
             [
              0,
              "#0d0887"
             ],
             [
              0.1111111111111111,
              "#46039f"
             ],
             [
              0.2222222222222222,
              "#7201a8"
             ],
             [
              0.3333333333333333,
              "#9c179e"
             ],
             [
              0.4444444444444444,
              "#bd3786"
             ],
             [
              0.5555555555555556,
              "#d8576b"
             ],
             [
              0.6666666666666666,
              "#ed7953"
             ],
             [
              0.7777777777777778,
              "#fb9f3a"
             ],
             [
              0.8888888888888888,
              "#fdca26"
             ],
             [
              1,
              "#f0f921"
             ]
            ],
            "type": "histogram2d"
           }
          ],
          "histogram2dcontour": [
           {
            "colorbar": {
             "outlinewidth": 0,
             "ticks": ""
            },
            "colorscale": [
             [
              0,
              "#0d0887"
             ],
             [
              0.1111111111111111,
              "#46039f"
             ],
             [
              0.2222222222222222,
              "#7201a8"
             ],
             [
              0.3333333333333333,
              "#9c179e"
             ],
             [
              0.4444444444444444,
              "#bd3786"
             ],
             [
              0.5555555555555556,
              "#d8576b"
             ],
             [
              0.6666666666666666,
              "#ed7953"
             ],
             [
              0.7777777777777778,
              "#fb9f3a"
             ],
             [
              0.8888888888888888,
              "#fdca26"
             ],
             [
              1,
              "#f0f921"
             ]
            ],
            "type": "histogram2dcontour"
           }
          ],
          "mesh3d": [
           {
            "colorbar": {
             "outlinewidth": 0,
             "ticks": ""
            },
            "type": "mesh3d"
           }
          ],
          "parcoords": [
           {
            "line": {
             "colorbar": {
              "outlinewidth": 0,
              "ticks": ""
             }
            },
            "type": "parcoords"
           }
          ],
          "pie": [
           {
            "automargin": true,
            "type": "pie"
           }
          ],
          "scatter": [
           {
            "marker": {
             "colorbar": {
              "outlinewidth": 0,
              "ticks": ""
             }
            },
            "type": "scatter"
           }
          ],
          "scatter3d": [
           {
            "line": {
             "colorbar": {
              "outlinewidth": 0,
              "ticks": ""
             }
            },
            "marker": {
             "colorbar": {
              "outlinewidth": 0,
              "ticks": ""
             }
            },
            "type": "scatter3d"
           }
          ],
          "scattercarpet": [
           {
            "marker": {
             "colorbar": {
              "outlinewidth": 0,
              "ticks": ""
             }
            },
            "type": "scattercarpet"
           }
          ],
          "scattergeo": [
           {
            "marker": {
             "colorbar": {
              "outlinewidth": 0,
              "ticks": ""
             }
            },
            "type": "scattergeo"
           }
          ],
          "scattergl": [
           {
            "marker": {
             "colorbar": {
              "outlinewidth": 0,
              "ticks": ""
             }
            },
            "type": "scattergl"
           }
          ],
          "scattermapbox": [
           {
            "marker": {
             "colorbar": {
              "outlinewidth": 0,
              "ticks": ""
             }
            },
            "type": "scattermapbox"
           }
          ],
          "scatterpolar": [
           {
            "marker": {
             "colorbar": {
              "outlinewidth": 0,
              "ticks": ""
             }
            },
            "type": "scatterpolar"
           }
          ],
          "scatterpolargl": [
           {
            "marker": {
             "colorbar": {
              "outlinewidth": 0,
              "ticks": ""
             }
            },
            "type": "scatterpolargl"
           }
          ],
          "scatterternary": [
           {
            "marker": {
             "colorbar": {
              "outlinewidth": 0,
              "ticks": ""
             }
            },
            "type": "scatterternary"
           }
          ],
          "surface": [
           {
            "colorbar": {
             "outlinewidth": 0,
             "ticks": ""
            },
            "colorscale": [
             [
              0,
              "#0d0887"
             ],
             [
              0.1111111111111111,
              "#46039f"
             ],
             [
              0.2222222222222222,
              "#7201a8"
             ],
             [
              0.3333333333333333,
              "#9c179e"
             ],
             [
              0.4444444444444444,
              "#bd3786"
             ],
             [
              0.5555555555555556,
              "#d8576b"
             ],
             [
              0.6666666666666666,
              "#ed7953"
             ],
             [
              0.7777777777777778,
              "#fb9f3a"
             ],
             [
              0.8888888888888888,
              "#fdca26"
             ],
             [
              1,
              "#f0f921"
             ]
            ],
            "type": "surface"
           }
          ],
          "table": [
           {
            "cells": {
             "fill": {
              "color": "#EBF0F8"
             },
             "line": {
              "color": "white"
             }
            },
            "header": {
             "fill": {
              "color": "#C8D4E3"
             },
             "line": {
              "color": "white"
             }
            },
            "type": "table"
           }
          ]
         },
         "layout": {
          "annotationdefaults": {
           "arrowcolor": "#2a3f5f",
           "arrowhead": 0,
           "arrowwidth": 1
          },
          "coloraxis": {
           "colorbar": {
            "outlinewidth": 0,
            "ticks": ""
           }
          },
          "colorscale": {
           "diverging": [
            [
             0,
             "#8e0152"
            ],
            [
             0.1,
             "#c51b7d"
            ],
            [
             0.2,
             "#de77ae"
            ],
            [
             0.3,
             "#f1b6da"
            ],
            [
             0.4,
             "#fde0ef"
            ],
            [
             0.5,
             "#f7f7f7"
            ],
            [
             0.6,
             "#e6f5d0"
            ],
            [
             0.7,
             "#b8e186"
            ],
            [
             0.8,
             "#7fbc41"
            ],
            [
             0.9,
             "#4d9221"
            ],
            [
             1,
             "#276419"
            ]
           ],
           "sequential": [
            [
             0,
             "#0d0887"
            ],
            [
             0.1111111111111111,
             "#46039f"
            ],
            [
             0.2222222222222222,
             "#7201a8"
            ],
            [
             0.3333333333333333,
             "#9c179e"
            ],
            [
             0.4444444444444444,
             "#bd3786"
            ],
            [
             0.5555555555555556,
             "#d8576b"
            ],
            [
             0.6666666666666666,
             "#ed7953"
            ],
            [
             0.7777777777777778,
             "#fb9f3a"
            ],
            [
             0.8888888888888888,
             "#fdca26"
            ],
            [
             1,
             "#f0f921"
            ]
           ],
           "sequentialminus": [
            [
             0,
             "#0d0887"
            ],
            [
             0.1111111111111111,
             "#46039f"
            ],
            [
             0.2222222222222222,
             "#7201a8"
            ],
            [
             0.3333333333333333,
             "#9c179e"
            ],
            [
             0.4444444444444444,
             "#bd3786"
            ],
            [
             0.5555555555555556,
             "#d8576b"
            ],
            [
             0.6666666666666666,
             "#ed7953"
            ],
            [
             0.7777777777777778,
             "#fb9f3a"
            ],
            [
             0.8888888888888888,
             "#fdca26"
            ],
            [
             1,
             "#f0f921"
            ]
           ]
          },
          "colorway": [
           "#636efa",
           "#EF553B",
           "#00cc96",
           "#ab63fa",
           "#FFA15A",
           "#19d3f3",
           "#FF6692",
           "#B6E880",
           "#FF97FF",
           "#FECB52"
          ],
          "font": {
           "color": "#2a3f5f"
          },
          "geo": {
           "bgcolor": "white",
           "lakecolor": "white",
           "landcolor": "#E5ECF6",
           "showlakes": true,
           "showland": true,
           "subunitcolor": "white"
          },
          "hoverlabel": {
           "align": "left"
          },
          "hovermode": "closest",
          "mapbox": {
           "style": "light"
          },
          "paper_bgcolor": "white",
          "plot_bgcolor": "#E5ECF6",
          "polar": {
           "angularaxis": {
            "gridcolor": "white",
            "linecolor": "white",
            "ticks": ""
           },
           "bgcolor": "#E5ECF6",
           "radialaxis": {
            "gridcolor": "white",
            "linecolor": "white",
            "ticks": ""
           }
          },
          "scene": {
           "xaxis": {
            "backgroundcolor": "#E5ECF6",
            "gridcolor": "white",
            "gridwidth": 2,
            "linecolor": "white",
            "showbackground": true,
            "ticks": "",
            "zerolinecolor": "white"
           },
           "yaxis": {
            "backgroundcolor": "#E5ECF6",
            "gridcolor": "white",
            "gridwidth": 2,
            "linecolor": "white",
            "showbackground": true,
            "ticks": "",
            "zerolinecolor": "white"
           },
           "zaxis": {
            "backgroundcolor": "#E5ECF6",
            "gridcolor": "white",
            "gridwidth": 2,
            "linecolor": "white",
            "showbackground": true,
            "ticks": "",
            "zerolinecolor": "white"
           }
          },
          "shapedefaults": {
           "line": {
            "color": "#2a3f5f"
           }
          },
          "ternary": {
           "aaxis": {
            "gridcolor": "white",
            "linecolor": "white",
            "ticks": ""
           },
           "baxis": {
            "gridcolor": "white",
            "linecolor": "white",
            "ticks": ""
           },
           "bgcolor": "#E5ECF6",
           "caxis": {
            "gridcolor": "white",
            "linecolor": "white",
            "ticks": ""
           }
          },
          "title": {
           "x": 0.05
          },
          "xaxis": {
           "automargin": true,
           "gridcolor": "white",
           "linecolor": "white",
           "ticks": "",
           "title": {
            "standoff": 15
           },
           "zerolinecolor": "white",
           "zerolinewidth": 2
          },
          "yaxis": {
           "automargin": true,
           "gridcolor": "white",
           "linecolor": "white",
           "ticks": "",
           "title": {
            "standoff": 15
           },
           "zerolinecolor": "white",
           "zerolinewidth": 2
          }
         }
        },
        "xaxis": {
         "anchor": "y",
         "domain": [
          0,
          1
         ],
         "title": {
          "text": "Date"
         }
        },
        "yaxis": {
         "anchor": "x",
         "domain": [
          0,
          1
         ],
         "title": {
          "text": "Revenue"
         }
        }
       }
      },
      "text/html": [
       "<div>\n",
       "        \n",
       "        \n",
       "            <div id=\"d5fb6ab5-9719-4ad2-a704-b7c6b915ad00\" class=\"plotly-graph-div\" style=\"height:525px; width:100%;\"></div>\n",
       "            <script type=\"text/javascript\">\n",
       "                require([\"plotly\"], function(Plotly) {\n",
       "                    window.PLOTLYENV=window.PLOTLYENV || {};\n",
       "                    \n",
       "                if (document.getElementById(\"d5fb6ab5-9719-4ad2-a704-b7c6b915ad00\")) {\n",
       "                    Plotly.newPlot(\n",
       "                        'd5fb6ab5-9719-4ad2-a704-b7c6b915ad00',\n",
       "                        [{\"hoverlabel\": {\"namelength\": 0}, \"hovertemplate\": \"Date=%{x}<br>Revenue=%{y}\", \"legendgroup\": \"\", \"line\": {\"color\": \"#636efa\", \"dash\": \"solid\"}, \"mode\": \"lines\", \"name\": \"\", \"showlegend\": false, \"type\": \"scatter\", \"x\": [\"04-05-2019\", \"05/29/2019\", \"05/29/2019\", \"05/29/2019\", \"05/29/2019\", \"05/29/2019\", \"05/29/2019\", \"11-10-2019\", \"11-10-2019\", \"11-10-2019\", \"11-10-2019\", \"11-10-2019\", \"11-10-2019\", \"11-10-2019\", \"11-10-2019\", \"05-03-2019\", \"05-10-2019\", \"05-10-2019\", \"12/30/2019\", \"03/17/2019\", \"11/23/2019\", \"10-07-2019\", \"03/13/2019\", \"03/13/2019\", \"03/13/2019\", \"03/13/2019\", \"03/13/2019\", \"03/13/2019\", \"03/13/2019\", \"03/13/2019\", \"03/15/2019\", \"10-10-2019\", \"10-10-2019\", \"10-10-2019\", \"12/27/2019\", \"02/19/2019\", \"02/19/2019\", \"02/19/2019\", \"02/19/2019\", \"02/19/2019\", \"06-11-2019\", \"02-08-2019\", \"10/31/2019\", \"06/17/2019\", \"10/31/2019\", \"06/17/2019\", \"09/22/2019\", \"11-12-2019\", \"03/27/2019\", \"03/27/2019\", \"03/27/2019\", \"03/27/2019\", \"03/27/2019\", \"03/27/2019\", \"03/27/2019\", \"03/27/2019\", \"03/27/2019\", \"03/27/2019\", \"05/31/2019\", \"09-03-2019\", \"06/26/2019\", \"06/26/2019\", \"06/26/2019\", \"06/26/2019\", \"06/26/2019\", \"01-12-2019\", \"01-12-2019\", \"01-12-2019\", \"01-12-2019\", \"01-12-2019\", \"01-12-2019\", \"01-12-2019\", \"01-12-2019\", \"11/22/2019\", \"07-06-2019\", \"01/14/2019\", \"01/14/2019\"], \"xaxis\": \"x\", \"y\": [5672099.04, 297154.0, 35867.12, 297154.0, 2885625.9, 1408839.3, 1971017.2, 3795330.24, 5751169.2, 3549218.54, 2092701.6, 1163577.87, 316024.76, 2638425.6, 3795330.24, 665199.5, 2704141.44, 1969777.04, 2320432.92, 1754633.79, 3706274.88, 4536872.36, 290498.55, 1051050.0, 5155943.52, 2747914.88, 3501224.8, 2460090.72, 763316.4, 2629016.39, 340945.2, 1911546.4, 172116.9, 1646797.28, 4809937.86, 1818926.9, 1233850.6, 3920869.8, 1595961.84, 3360846.3, 3110079.96, 4196922.24, 2294262.88, 3619085.12, 2030336.55, 1782380.5, 4722725.28, 3575959.2, 3008005.44, 404271.9, 3171069.36, 1832233.44, 3261387.2, 2237151.84, 2359707.09, 4439706.26, 2017024.8, 654659.28, 3657231.0, 4089753.75, 1720236.5, 436948.8, 2114874.84, 1056768.3, 4009035.2, 933426.15, 1967095.8, 4331145.6, 2263580.88, 2158513.2, 29339.72, 251412.54, 933426.15, 551239.5, 2944622.7, 827250.2, 4439550.51], \"yaxis\": \"y\"}],\n",
       "                        {\"legend\": {\"tracegroupgap\": 0}, \"margin\": {\"t\": 60}, \"template\": {\"data\": {\"bar\": [{\"error_x\": {\"color\": \"#2a3f5f\"}, \"error_y\": {\"color\": \"#2a3f5f\"}, \"marker\": {\"line\": {\"color\": \"#E5ECF6\", \"width\": 0.5}}, \"type\": \"bar\"}], \"barpolar\": [{\"marker\": {\"line\": {\"color\": \"#E5ECF6\", \"width\": 0.5}}, \"type\": \"barpolar\"}], \"carpet\": [{\"aaxis\": {\"endlinecolor\": \"#2a3f5f\", \"gridcolor\": \"white\", \"linecolor\": \"white\", \"minorgridcolor\": \"white\", \"startlinecolor\": \"#2a3f5f\"}, \"baxis\": {\"endlinecolor\": \"#2a3f5f\", \"gridcolor\": \"white\", \"linecolor\": \"white\", \"minorgridcolor\": \"white\", \"startlinecolor\": \"#2a3f5f\"}, \"type\": \"carpet\"}], \"choropleth\": [{\"colorbar\": {\"outlinewidth\": 0, \"ticks\": \"\"}, \"type\": \"choropleth\"}], \"contour\": [{\"colorbar\": {\"outlinewidth\": 0, \"ticks\": \"\"}, \"colorscale\": [[0.0, \"#0d0887\"], [0.1111111111111111, \"#46039f\"], [0.2222222222222222, \"#7201a8\"], [0.3333333333333333, \"#9c179e\"], [0.4444444444444444, \"#bd3786\"], [0.5555555555555556, \"#d8576b\"], [0.6666666666666666, \"#ed7953\"], [0.7777777777777778, \"#fb9f3a\"], [0.8888888888888888, \"#fdca26\"], [1.0, \"#f0f921\"]], \"type\": \"contour\"}], \"contourcarpet\": [{\"colorbar\": {\"outlinewidth\": 0, \"ticks\": \"\"}, \"type\": \"contourcarpet\"}], \"heatmap\": [{\"colorbar\": {\"outlinewidth\": 0, \"ticks\": \"\"}, \"colorscale\": [[0.0, \"#0d0887\"], [0.1111111111111111, \"#46039f\"], [0.2222222222222222, \"#7201a8\"], [0.3333333333333333, \"#9c179e\"], [0.4444444444444444, \"#bd3786\"], [0.5555555555555556, \"#d8576b\"], [0.6666666666666666, \"#ed7953\"], [0.7777777777777778, \"#fb9f3a\"], [0.8888888888888888, \"#fdca26\"], [1.0, \"#f0f921\"]], \"type\": \"heatmap\"}], \"heatmapgl\": [{\"colorbar\": {\"outlinewidth\": 0, \"ticks\": \"\"}, \"colorscale\": [[0.0, \"#0d0887\"], [0.1111111111111111, \"#46039f\"], [0.2222222222222222, \"#7201a8\"], [0.3333333333333333, \"#9c179e\"], [0.4444444444444444, \"#bd3786\"], [0.5555555555555556, \"#d8576b\"], [0.6666666666666666, \"#ed7953\"], [0.7777777777777778, \"#fb9f3a\"], [0.8888888888888888, \"#fdca26\"], [1.0, \"#f0f921\"]], \"type\": \"heatmapgl\"}], \"histogram\": [{\"marker\": {\"colorbar\": {\"outlinewidth\": 0, \"ticks\": \"\"}}, \"type\": \"histogram\"}], \"histogram2d\": [{\"colorbar\": {\"outlinewidth\": 0, \"ticks\": \"\"}, \"colorscale\": [[0.0, \"#0d0887\"], [0.1111111111111111, \"#46039f\"], [0.2222222222222222, \"#7201a8\"], [0.3333333333333333, \"#9c179e\"], [0.4444444444444444, \"#bd3786\"], [0.5555555555555556, \"#d8576b\"], [0.6666666666666666, \"#ed7953\"], [0.7777777777777778, \"#fb9f3a\"], [0.8888888888888888, \"#fdca26\"], [1.0, \"#f0f921\"]], \"type\": \"histogram2d\"}], \"histogram2dcontour\": [{\"colorbar\": {\"outlinewidth\": 0, \"ticks\": \"\"}, \"colorscale\": [[0.0, \"#0d0887\"], [0.1111111111111111, \"#46039f\"], [0.2222222222222222, \"#7201a8\"], [0.3333333333333333, \"#9c179e\"], [0.4444444444444444, \"#bd3786\"], [0.5555555555555556, \"#d8576b\"], [0.6666666666666666, \"#ed7953\"], [0.7777777777777778, \"#fb9f3a\"], [0.8888888888888888, \"#fdca26\"], [1.0, \"#f0f921\"]], \"type\": \"histogram2dcontour\"}], \"mesh3d\": [{\"colorbar\": {\"outlinewidth\": 0, \"ticks\": \"\"}, \"type\": \"mesh3d\"}], \"parcoords\": [{\"line\": {\"colorbar\": {\"outlinewidth\": 0, \"ticks\": \"\"}}, \"type\": \"parcoords\"}], \"pie\": [{\"automargin\": true, \"type\": \"pie\"}], \"scatter\": [{\"marker\": {\"colorbar\": {\"outlinewidth\": 0, \"ticks\": \"\"}}, \"type\": \"scatter\"}], \"scatter3d\": [{\"line\": {\"colorbar\": {\"outlinewidth\": 0, \"ticks\": \"\"}}, \"marker\": {\"colorbar\": {\"outlinewidth\": 0, \"ticks\": \"\"}}, \"type\": \"scatter3d\"}], \"scattercarpet\": [{\"marker\": {\"colorbar\": {\"outlinewidth\": 0, \"ticks\": \"\"}}, \"type\": \"scattercarpet\"}], \"scattergeo\": [{\"marker\": {\"colorbar\": {\"outlinewidth\": 0, \"ticks\": \"\"}}, \"type\": \"scattergeo\"}], \"scattergl\": [{\"marker\": {\"colorbar\": {\"outlinewidth\": 0, \"ticks\": \"\"}}, \"type\": \"scattergl\"}], \"scattermapbox\": [{\"marker\": {\"colorbar\": {\"outlinewidth\": 0, \"ticks\": \"\"}}, \"type\": \"scattermapbox\"}], \"scatterpolar\": [{\"marker\": {\"colorbar\": {\"outlinewidth\": 0, \"ticks\": \"\"}}, \"type\": \"scatterpolar\"}], \"scatterpolargl\": [{\"marker\": {\"colorbar\": {\"outlinewidth\": 0, \"ticks\": \"\"}}, \"type\": \"scatterpolargl\"}], \"scatterternary\": [{\"marker\": {\"colorbar\": {\"outlinewidth\": 0, \"ticks\": \"\"}}, \"type\": \"scatterternary\"}], \"surface\": [{\"colorbar\": {\"outlinewidth\": 0, \"ticks\": \"\"}, \"colorscale\": [[0.0, \"#0d0887\"], [0.1111111111111111, \"#46039f\"], [0.2222222222222222, \"#7201a8\"], [0.3333333333333333, \"#9c179e\"], [0.4444444444444444, \"#bd3786\"], [0.5555555555555556, \"#d8576b\"], [0.6666666666666666, \"#ed7953\"], [0.7777777777777778, \"#fb9f3a\"], [0.8888888888888888, \"#fdca26\"], [1.0, \"#f0f921\"]], \"type\": \"surface\"}], \"table\": [{\"cells\": {\"fill\": {\"color\": \"#EBF0F8\"}, \"line\": {\"color\": \"white\"}}, \"header\": {\"fill\": {\"color\": \"#C8D4E3\"}, \"line\": {\"color\": \"white\"}}, \"type\": \"table\"}]}, \"layout\": {\"annotationdefaults\": {\"arrowcolor\": \"#2a3f5f\", \"arrowhead\": 0, \"arrowwidth\": 1}, \"coloraxis\": {\"colorbar\": {\"outlinewidth\": 0, \"ticks\": \"\"}}, \"colorscale\": {\"diverging\": [[0, \"#8e0152\"], [0.1, \"#c51b7d\"], [0.2, \"#de77ae\"], [0.3, \"#f1b6da\"], [0.4, \"#fde0ef\"], [0.5, \"#f7f7f7\"], [0.6, \"#e6f5d0\"], [0.7, \"#b8e186\"], [0.8, \"#7fbc41\"], [0.9, \"#4d9221\"], [1, \"#276419\"]], \"sequential\": [[0.0, \"#0d0887\"], [0.1111111111111111, \"#46039f\"], [0.2222222222222222, \"#7201a8\"], [0.3333333333333333, \"#9c179e\"], [0.4444444444444444, \"#bd3786\"], [0.5555555555555556, \"#d8576b\"], [0.6666666666666666, \"#ed7953\"], [0.7777777777777778, \"#fb9f3a\"], [0.8888888888888888, \"#fdca26\"], [1.0, \"#f0f921\"]], \"sequentialminus\": [[0.0, \"#0d0887\"], [0.1111111111111111, \"#46039f\"], [0.2222222222222222, \"#7201a8\"], [0.3333333333333333, \"#9c179e\"], [0.4444444444444444, \"#bd3786\"], [0.5555555555555556, \"#d8576b\"], [0.6666666666666666, \"#ed7953\"], [0.7777777777777778, \"#fb9f3a\"], [0.8888888888888888, \"#fdca26\"], [1.0, \"#f0f921\"]]}, \"colorway\": [\"#636efa\", \"#EF553B\", \"#00cc96\", \"#ab63fa\", \"#FFA15A\", \"#19d3f3\", \"#FF6692\", \"#B6E880\", \"#FF97FF\", \"#FECB52\"], \"font\": {\"color\": \"#2a3f5f\"}, \"geo\": {\"bgcolor\": \"white\", \"lakecolor\": \"white\", \"landcolor\": \"#E5ECF6\", \"showlakes\": true, \"showland\": true, \"subunitcolor\": \"white\"}, \"hoverlabel\": {\"align\": \"left\"}, \"hovermode\": \"closest\", \"mapbox\": {\"style\": \"light\"}, \"paper_bgcolor\": \"white\", \"plot_bgcolor\": \"#E5ECF6\", \"polar\": {\"angularaxis\": {\"gridcolor\": \"white\", \"linecolor\": \"white\", \"ticks\": \"\"}, \"bgcolor\": \"#E5ECF6\", \"radialaxis\": {\"gridcolor\": \"white\", \"linecolor\": \"white\", \"ticks\": \"\"}}, \"scene\": {\"xaxis\": {\"backgroundcolor\": \"#E5ECF6\", \"gridcolor\": \"white\", \"gridwidth\": 2, \"linecolor\": \"white\", \"showbackground\": true, \"ticks\": \"\", \"zerolinecolor\": \"white\"}, \"yaxis\": {\"backgroundcolor\": \"#E5ECF6\", \"gridcolor\": \"white\", \"gridwidth\": 2, \"linecolor\": \"white\", \"showbackground\": true, \"ticks\": \"\", \"zerolinecolor\": \"white\"}, \"zaxis\": {\"backgroundcolor\": \"#E5ECF6\", \"gridcolor\": \"white\", \"gridwidth\": 2, \"linecolor\": \"white\", \"showbackground\": true, \"ticks\": \"\", \"zerolinecolor\": \"white\"}}, \"shapedefaults\": {\"line\": {\"color\": \"#2a3f5f\"}}, \"ternary\": {\"aaxis\": {\"gridcolor\": \"white\", \"linecolor\": \"white\", \"ticks\": \"\"}, \"baxis\": {\"gridcolor\": \"white\", \"linecolor\": \"white\", \"ticks\": \"\"}, \"bgcolor\": \"#E5ECF6\", \"caxis\": {\"gridcolor\": \"white\", \"linecolor\": \"white\", \"ticks\": \"\"}}, \"title\": {\"x\": 0.05}, \"xaxis\": {\"automargin\": true, \"gridcolor\": \"white\", \"linecolor\": \"white\", \"ticks\": \"\", \"title\": {\"standoff\": 15}, \"zerolinecolor\": \"white\", \"zerolinewidth\": 2}, \"yaxis\": {\"automargin\": true, \"gridcolor\": \"white\", \"linecolor\": \"white\", \"ticks\": \"\", \"title\": {\"standoff\": 15}, \"zerolinecolor\": \"white\", \"zerolinewidth\": 2}}}, \"xaxis\": {\"anchor\": \"y\", \"domain\": [0.0, 1.0], \"title\": {\"text\": \"Date\"}}, \"yaxis\": {\"anchor\": \"x\", \"domain\": [0.0, 1.0], \"title\": {\"text\": \"Revenue\"}}},\n",
       "                        {\"responsive\": true}\n",
       "                    ).then(function(){\n",
       "                            \n",
       "var gd = document.getElementById('d5fb6ab5-9719-4ad2-a704-b7c6b915ad00');\n",
       "var x = new MutationObserver(function (mutations, observer) {{\n",
       "        var display = window.getComputedStyle(gd).display;\n",
       "        if (!display || display === 'none') {{\n",
       "            console.log([gd, 'removed!']);\n",
       "            Plotly.purge(gd);\n",
       "            observer.disconnect();\n",
       "        }}\n",
       "}});\n",
       "\n",
       "// Listen for the removal of the full notebook cells\n",
       "var notebookContainer = gd.closest('#notebook-container');\n",
       "if (notebookContainer) {{\n",
       "    x.observe(notebookContainer, {childList: true});\n",
       "}}\n",
       "\n",
       "// Listen for the clearing of the current output cell\n",
       "var outputEl = gd.closest('.output');\n",
       "if (outputEl) {{\n",
       "    x.observe(outputEl, {childList: true});\n",
       "}}\n",
       "\n",
       "                        })\n",
       "                };\n",
       "                });\n",
       "            </script>\n",
       "        </div>"
      ]
     },
     "metadata": {},
     "output_type": "display_data"
    }
   ],
   "source": [
    "import plotly.express as px\n",
    "\n",
    "import pandas as pd\n",
    "# df = pd.read_csv('e1.csv')\n",
    "\n",
    "fig = px.line(df, x='Date', y='Revenue')\n",
    "fig.show()"
   ]
  },
  {
   "cell_type": "code",
   "execution_count": 133,
   "metadata": {},
   "outputs": [
    {
     "data": {
      "application/vnd.plotly.v1+json": {
       "config": {
        "plotlyServerURL": "https://plot.ly"
       },
       "data": [
        {
         "line": {
          "color": "deepskyblue"
         },
         "name": "Revenue",
         "opacity": 0.8,
         "type": "scatter",
         "x": [
          "04/05/2019",
          "05/29/2019",
          "05/29/2019",
          "05/29/2019",
          "05/29/2019",
          "05/29/2019",
          "05/29/2019",
          "11/10/2019",
          "11/10/2019",
          "11/10/2019",
          "11/10/2019",
          "11/10/2019",
          "11/10/2019",
          "11/10/2019",
          "11/10/2019",
          "05/03/2019",
          "05/10/2019",
          "05/10/2019",
          "12/30/2019",
          "03/17/2019",
          "11/23/2019",
          "10/07/2019",
          "03/13/2019",
          "03/13/2019",
          "03/13/2019",
          "03/13/2019",
          "03/13/2019",
          "03/13/2019",
          "03/13/2019",
          "03/13/2019",
          "03/15/2019",
          "10/10/2019",
          "10/10/2019",
          "10/10/2019",
          "12/27/2019",
          "02/19/2019",
          "02/19/2019",
          "02/19/2019",
          "02/19/2019",
          "02/19/2019",
          "06/11/2019",
          "02/08/2019",
          "10/31/2019",
          "06/17/2019",
          "10/31/2019",
          "06/17/2019",
          "09/22/2019",
          "11/12/2019",
          "03/27/2019",
          "03/27/2019",
          "03/27/2019",
          "03/27/2019",
          "03/27/2019",
          "03/27/2019",
          "03/27/2019",
          "03/27/2019",
          "03/27/2019",
          "03/27/2019",
          "05/31/2019",
          "09/03/2019",
          "06/26/2019",
          "06/26/2019",
          "06/26/2019",
          "06/26/2019",
          "06/26/2019",
          "01/12/2019",
          "01/12/2019",
          "01/12/2019",
          "01/12/2019",
          "01/12/2019",
          "01/12/2019",
          "01/12/2019",
          "01/12/2019",
          "11/22/2019",
          "07/06/2019",
          "01/14/2019",
          "01/14/2019"
         ],
         "y": [
          5672099.04,
          297154,
          35867.12,
          297154,
          2885625.9,
          1408839.3,
          1971017.2,
          3795330.24,
          5751169.2,
          3549218.54,
          2092701.6,
          1163577.87,
          316024.76,
          2638425.6,
          3795330.24,
          665199.5,
          2704141.44,
          1969777.04,
          2320432.92,
          1754633.79,
          3706274.88,
          4536872.36,
          290498.55,
          1051050,
          5155943.52,
          2747914.88,
          3501224.8,
          2460090.72,
          763316.4,
          2629016.39,
          340945.2,
          1911546.4,
          172116.9,
          1646797.28,
          4809937.86,
          1818926.9,
          1233850.6,
          3920869.8,
          1595961.84,
          3360846.3,
          3110079.96,
          4196922.24,
          2294262.88,
          3619085.12,
          2030336.55,
          1782380.5,
          4722725.28,
          3575959.2,
          3008005.44,
          404271.9,
          3171069.36,
          1832233.44,
          3261387.2,
          2237151.84,
          2359707.09,
          4439706.26,
          2017024.8,
          654659.28,
          3657231,
          4089753.75,
          1720236.5,
          436948.8,
          2114874.84,
          1056768.3,
          4009035.2,
          933426.15,
          1967095.8,
          4331145.6,
          2263580.88,
          2158513.2,
          29339.72,
          251412.54,
          933426.15,
          551239.5,
          2944622.7,
          827250.2,
          4439550.51
         ]
        }
       ],
       "layout": {
        "template": {
         "data": {
          "bar": [
           {
            "error_x": {
             "color": "#2a3f5f"
            },
            "error_y": {
             "color": "#2a3f5f"
            },
            "marker": {
             "line": {
              "color": "#E5ECF6",
              "width": 0.5
             }
            },
            "type": "bar"
           }
          ],
          "barpolar": [
           {
            "marker": {
             "line": {
              "color": "#E5ECF6",
              "width": 0.5
             }
            },
            "type": "barpolar"
           }
          ],
          "carpet": [
           {
            "aaxis": {
             "endlinecolor": "#2a3f5f",
             "gridcolor": "white",
             "linecolor": "white",
             "minorgridcolor": "white",
             "startlinecolor": "#2a3f5f"
            },
            "baxis": {
             "endlinecolor": "#2a3f5f",
             "gridcolor": "white",
             "linecolor": "white",
             "minorgridcolor": "white",
             "startlinecolor": "#2a3f5f"
            },
            "type": "carpet"
           }
          ],
          "choropleth": [
           {
            "colorbar": {
             "outlinewidth": 0,
             "ticks": ""
            },
            "type": "choropleth"
           }
          ],
          "contour": [
           {
            "colorbar": {
             "outlinewidth": 0,
             "ticks": ""
            },
            "colorscale": [
             [
              0,
              "#0d0887"
             ],
             [
              0.1111111111111111,
              "#46039f"
             ],
             [
              0.2222222222222222,
              "#7201a8"
             ],
             [
              0.3333333333333333,
              "#9c179e"
             ],
             [
              0.4444444444444444,
              "#bd3786"
             ],
             [
              0.5555555555555556,
              "#d8576b"
             ],
             [
              0.6666666666666666,
              "#ed7953"
             ],
             [
              0.7777777777777778,
              "#fb9f3a"
             ],
             [
              0.8888888888888888,
              "#fdca26"
             ],
             [
              1,
              "#f0f921"
             ]
            ],
            "type": "contour"
           }
          ],
          "contourcarpet": [
           {
            "colorbar": {
             "outlinewidth": 0,
             "ticks": ""
            },
            "type": "contourcarpet"
           }
          ],
          "heatmap": [
           {
            "colorbar": {
             "outlinewidth": 0,
             "ticks": ""
            },
            "colorscale": [
             [
              0,
              "#0d0887"
             ],
             [
              0.1111111111111111,
              "#46039f"
             ],
             [
              0.2222222222222222,
              "#7201a8"
             ],
             [
              0.3333333333333333,
              "#9c179e"
             ],
             [
              0.4444444444444444,
              "#bd3786"
             ],
             [
              0.5555555555555556,
              "#d8576b"
             ],
             [
              0.6666666666666666,
              "#ed7953"
             ],
             [
              0.7777777777777778,
              "#fb9f3a"
             ],
             [
              0.8888888888888888,
              "#fdca26"
             ],
             [
              1,
              "#f0f921"
             ]
            ],
            "type": "heatmap"
           }
          ],
          "heatmapgl": [
           {
            "colorbar": {
             "outlinewidth": 0,
             "ticks": ""
            },
            "colorscale": [
             [
              0,
              "#0d0887"
             ],
             [
              0.1111111111111111,
              "#46039f"
             ],
             [
              0.2222222222222222,
              "#7201a8"
             ],
             [
              0.3333333333333333,
              "#9c179e"
             ],
             [
              0.4444444444444444,
              "#bd3786"
             ],
             [
              0.5555555555555556,
              "#d8576b"
             ],
             [
              0.6666666666666666,
              "#ed7953"
             ],
             [
              0.7777777777777778,
              "#fb9f3a"
             ],
             [
              0.8888888888888888,
              "#fdca26"
             ],
             [
              1,
              "#f0f921"
             ]
            ],
            "type": "heatmapgl"
           }
          ],
          "histogram": [
           {
            "marker": {
             "colorbar": {
              "outlinewidth": 0,
              "ticks": ""
             }
            },
            "type": "histogram"
           }
          ],
          "histogram2d": [
           {
            "colorbar": {
             "outlinewidth": 0,
             "ticks": ""
            },
            "colorscale": [
             [
              0,
              "#0d0887"
             ],
             [
              0.1111111111111111,
              "#46039f"
             ],
             [
              0.2222222222222222,
              "#7201a8"
             ],
             [
              0.3333333333333333,
              "#9c179e"
             ],
             [
              0.4444444444444444,
              "#bd3786"
             ],
             [
              0.5555555555555556,
              "#d8576b"
             ],
             [
              0.6666666666666666,
              "#ed7953"
             ],
             [
              0.7777777777777778,
              "#fb9f3a"
             ],
             [
              0.8888888888888888,
              "#fdca26"
             ],
             [
              1,
              "#f0f921"
             ]
            ],
            "type": "histogram2d"
           }
          ],
          "histogram2dcontour": [
           {
            "colorbar": {
             "outlinewidth": 0,
             "ticks": ""
            },
            "colorscale": [
             [
              0,
              "#0d0887"
             ],
             [
              0.1111111111111111,
              "#46039f"
             ],
             [
              0.2222222222222222,
              "#7201a8"
             ],
             [
              0.3333333333333333,
              "#9c179e"
             ],
             [
              0.4444444444444444,
              "#bd3786"
             ],
             [
              0.5555555555555556,
              "#d8576b"
             ],
             [
              0.6666666666666666,
              "#ed7953"
             ],
             [
              0.7777777777777778,
              "#fb9f3a"
             ],
             [
              0.8888888888888888,
              "#fdca26"
             ],
             [
              1,
              "#f0f921"
             ]
            ],
            "type": "histogram2dcontour"
           }
          ],
          "mesh3d": [
           {
            "colorbar": {
             "outlinewidth": 0,
             "ticks": ""
            },
            "type": "mesh3d"
           }
          ],
          "parcoords": [
           {
            "line": {
             "colorbar": {
              "outlinewidth": 0,
              "ticks": ""
             }
            },
            "type": "parcoords"
           }
          ],
          "pie": [
           {
            "automargin": true,
            "type": "pie"
           }
          ],
          "scatter": [
           {
            "marker": {
             "colorbar": {
              "outlinewidth": 0,
              "ticks": ""
             }
            },
            "type": "scatter"
           }
          ],
          "scatter3d": [
           {
            "line": {
             "colorbar": {
              "outlinewidth": 0,
              "ticks": ""
             }
            },
            "marker": {
             "colorbar": {
              "outlinewidth": 0,
              "ticks": ""
             }
            },
            "type": "scatter3d"
           }
          ],
          "scattercarpet": [
           {
            "marker": {
             "colorbar": {
              "outlinewidth": 0,
              "ticks": ""
             }
            },
            "type": "scattercarpet"
           }
          ],
          "scattergeo": [
           {
            "marker": {
             "colorbar": {
              "outlinewidth": 0,
              "ticks": ""
             }
            },
            "type": "scattergeo"
           }
          ],
          "scattergl": [
           {
            "marker": {
             "colorbar": {
              "outlinewidth": 0,
              "ticks": ""
             }
            },
            "type": "scattergl"
           }
          ],
          "scattermapbox": [
           {
            "marker": {
             "colorbar": {
              "outlinewidth": 0,
              "ticks": ""
             }
            },
            "type": "scattermapbox"
           }
          ],
          "scatterpolar": [
           {
            "marker": {
             "colorbar": {
              "outlinewidth": 0,
              "ticks": ""
             }
            },
            "type": "scatterpolar"
           }
          ],
          "scatterpolargl": [
           {
            "marker": {
             "colorbar": {
              "outlinewidth": 0,
              "ticks": ""
             }
            },
            "type": "scatterpolargl"
           }
          ],
          "scatterternary": [
           {
            "marker": {
             "colorbar": {
              "outlinewidth": 0,
              "ticks": ""
             }
            },
            "type": "scatterternary"
           }
          ],
          "surface": [
           {
            "colorbar": {
             "outlinewidth": 0,
             "ticks": ""
            },
            "colorscale": [
             [
              0,
              "#0d0887"
             ],
             [
              0.1111111111111111,
              "#46039f"
             ],
             [
              0.2222222222222222,
              "#7201a8"
             ],
             [
              0.3333333333333333,
              "#9c179e"
             ],
             [
              0.4444444444444444,
              "#bd3786"
             ],
             [
              0.5555555555555556,
              "#d8576b"
             ],
             [
              0.6666666666666666,
              "#ed7953"
             ],
             [
              0.7777777777777778,
              "#fb9f3a"
             ],
             [
              0.8888888888888888,
              "#fdca26"
             ],
             [
              1,
              "#f0f921"
             ]
            ],
            "type": "surface"
           }
          ],
          "table": [
           {
            "cells": {
             "fill": {
              "color": "#EBF0F8"
             },
             "line": {
              "color": "white"
             }
            },
            "header": {
             "fill": {
              "color": "#C8D4E3"
             },
             "line": {
              "color": "white"
             }
            },
            "type": "table"
           }
          ]
         },
         "layout": {
          "annotationdefaults": {
           "arrowcolor": "#2a3f5f",
           "arrowhead": 0,
           "arrowwidth": 1
          },
          "coloraxis": {
           "colorbar": {
            "outlinewidth": 0,
            "ticks": ""
           }
          },
          "colorscale": {
           "diverging": [
            [
             0,
             "#8e0152"
            ],
            [
             0.1,
             "#c51b7d"
            ],
            [
             0.2,
             "#de77ae"
            ],
            [
             0.3,
             "#f1b6da"
            ],
            [
             0.4,
             "#fde0ef"
            ],
            [
             0.5,
             "#f7f7f7"
            ],
            [
             0.6,
             "#e6f5d0"
            ],
            [
             0.7,
             "#b8e186"
            ],
            [
             0.8,
             "#7fbc41"
            ],
            [
             0.9,
             "#4d9221"
            ],
            [
             1,
             "#276419"
            ]
           ],
           "sequential": [
            [
             0,
             "#0d0887"
            ],
            [
             0.1111111111111111,
             "#46039f"
            ],
            [
             0.2222222222222222,
             "#7201a8"
            ],
            [
             0.3333333333333333,
             "#9c179e"
            ],
            [
             0.4444444444444444,
             "#bd3786"
            ],
            [
             0.5555555555555556,
             "#d8576b"
            ],
            [
             0.6666666666666666,
             "#ed7953"
            ],
            [
             0.7777777777777778,
             "#fb9f3a"
            ],
            [
             0.8888888888888888,
             "#fdca26"
            ],
            [
             1,
             "#f0f921"
            ]
           ],
           "sequentialminus": [
            [
             0,
             "#0d0887"
            ],
            [
             0.1111111111111111,
             "#46039f"
            ],
            [
             0.2222222222222222,
             "#7201a8"
            ],
            [
             0.3333333333333333,
             "#9c179e"
            ],
            [
             0.4444444444444444,
             "#bd3786"
            ],
            [
             0.5555555555555556,
             "#d8576b"
            ],
            [
             0.6666666666666666,
             "#ed7953"
            ],
            [
             0.7777777777777778,
             "#fb9f3a"
            ],
            [
             0.8888888888888888,
             "#fdca26"
            ],
            [
             1,
             "#f0f921"
            ]
           ]
          },
          "colorway": [
           "#636efa",
           "#EF553B",
           "#00cc96",
           "#ab63fa",
           "#FFA15A",
           "#19d3f3",
           "#FF6692",
           "#B6E880",
           "#FF97FF",
           "#FECB52"
          ],
          "font": {
           "color": "#2a3f5f"
          },
          "geo": {
           "bgcolor": "white",
           "lakecolor": "white",
           "landcolor": "#E5ECF6",
           "showlakes": true,
           "showland": true,
           "subunitcolor": "white"
          },
          "hoverlabel": {
           "align": "left"
          },
          "hovermode": "closest",
          "mapbox": {
           "style": "light"
          },
          "paper_bgcolor": "white",
          "plot_bgcolor": "#E5ECF6",
          "polar": {
           "angularaxis": {
            "gridcolor": "white",
            "linecolor": "white",
            "ticks": ""
           },
           "bgcolor": "#E5ECF6",
           "radialaxis": {
            "gridcolor": "white",
            "linecolor": "white",
            "ticks": ""
           }
          },
          "scene": {
           "xaxis": {
            "backgroundcolor": "#E5ECF6",
            "gridcolor": "white",
            "gridwidth": 2,
            "linecolor": "white",
            "showbackground": true,
            "ticks": "",
            "zerolinecolor": "white"
           },
           "yaxis": {
            "backgroundcolor": "#E5ECF6",
            "gridcolor": "white",
            "gridwidth": 2,
            "linecolor": "white",
            "showbackground": true,
            "ticks": "",
            "zerolinecolor": "white"
           },
           "zaxis": {
            "backgroundcolor": "#E5ECF6",
            "gridcolor": "white",
            "gridwidth": 2,
            "linecolor": "white",
            "showbackground": true,
            "ticks": "",
            "zerolinecolor": "white"
           }
          },
          "shapedefaults": {
           "line": {
            "color": "#2a3f5f"
           }
          },
          "ternary": {
           "aaxis": {
            "gridcolor": "white",
            "linecolor": "white",
            "ticks": ""
           },
           "baxis": {
            "gridcolor": "white",
            "linecolor": "white",
            "ticks": ""
           },
           "bgcolor": "#E5ECF6",
           "caxis": {
            "gridcolor": "white",
            "linecolor": "white",
            "ticks": ""
           }
          },
          "title": {
           "x": 0.05
          },
          "xaxis": {
           "automargin": true,
           "gridcolor": "white",
           "linecolor": "white",
           "ticks": "",
           "title": {
            "standoff": 15
           },
           "zerolinecolor": "white",
           "zerolinewidth": 2
          },
          "yaxis": {
           "automargin": true,
           "gridcolor": "white",
           "linecolor": "white",
           "ticks": "",
           "title": {
            "standoff": 15
           },
           "zerolinecolor": "white",
           "zerolinewidth": 2
          }
         }
        },
        "title": {
         "text": "Manually Set Date Range"
        },
        "xaxis": {
         "range": [
          "01/01/2019",
          "12/31/2019"
         ]
        }
       }
      },
      "text/html": [
       "<div>\n",
       "        \n",
       "        \n",
       "            <div id=\"ec9ab517-d127-48ed-b801-7ce997d27e7d\" class=\"plotly-graph-div\" style=\"height:525px; width:100%;\"></div>\n",
       "            <script type=\"text/javascript\">\n",
       "                require([\"plotly\"], function(Plotly) {\n",
       "                    window.PLOTLYENV=window.PLOTLYENV || {};\n",
       "                    \n",
       "                if (document.getElementById(\"ec9ab517-d127-48ed-b801-7ce997d27e7d\")) {\n",
       "                    Plotly.newPlot(\n",
       "                        'ec9ab517-d127-48ed-b801-7ce997d27e7d',\n",
       "                        [{\"line\": {\"color\": \"deepskyblue\"}, \"name\": \"Revenue\", \"opacity\": 0.8, \"type\": \"scatter\", \"x\": [\"04/05/2019\", \"05/29/2019\", \"05/29/2019\", \"05/29/2019\", \"05/29/2019\", \"05/29/2019\", \"05/29/2019\", \"11/10/2019\", \"11/10/2019\", \"11/10/2019\", \"11/10/2019\", \"11/10/2019\", \"11/10/2019\", \"11/10/2019\", \"11/10/2019\", \"05/03/2019\", \"05/10/2019\", \"05/10/2019\", \"12/30/2019\", \"03/17/2019\", \"11/23/2019\", \"10/07/2019\", \"03/13/2019\", \"03/13/2019\", \"03/13/2019\", \"03/13/2019\", \"03/13/2019\", \"03/13/2019\", \"03/13/2019\", \"03/13/2019\", \"03/15/2019\", \"10/10/2019\", \"10/10/2019\", \"10/10/2019\", \"12/27/2019\", \"02/19/2019\", \"02/19/2019\", \"02/19/2019\", \"02/19/2019\", \"02/19/2019\", \"06/11/2019\", \"02/08/2019\", \"10/31/2019\", \"06/17/2019\", \"10/31/2019\", \"06/17/2019\", \"09/22/2019\", \"11/12/2019\", \"03/27/2019\", \"03/27/2019\", \"03/27/2019\", \"03/27/2019\", \"03/27/2019\", \"03/27/2019\", \"03/27/2019\", \"03/27/2019\", \"03/27/2019\", \"03/27/2019\", \"05/31/2019\", \"09/03/2019\", \"06/26/2019\", \"06/26/2019\", \"06/26/2019\", \"06/26/2019\", \"06/26/2019\", \"01/12/2019\", \"01/12/2019\", \"01/12/2019\", \"01/12/2019\", \"01/12/2019\", \"01/12/2019\", \"01/12/2019\", \"01/12/2019\", \"11/22/2019\", \"07/06/2019\", \"01/14/2019\", \"01/14/2019\"], \"y\": [5672099.04, 297154.0, 35867.12, 297154.0, 2885625.9, 1408839.3, 1971017.2, 3795330.24, 5751169.2, 3549218.54, 2092701.6, 1163577.87, 316024.76, 2638425.6, 3795330.24, 665199.5, 2704141.44, 1969777.04, 2320432.92, 1754633.79, 3706274.88, 4536872.36, 290498.55, 1051050.0, 5155943.52, 2747914.88, 3501224.8, 2460090.72, 763316.4, 2629016.39, 340945.2, 1911546.4, 172116.9, 1646797.28, 4809937.86, 1818926.9, 1233850.6, 3920869.8, 1595961.84, 3360846.3, 3110079.96, 4196922.24, 2294262.88, 3619085.12, 2030336.55, 1782380.5, 4722725.28, 3575959.2, 3008005.44, 404271.9, 3171069.36, 1832233.44, 3261387.2, 2237151.84, 2359707.09, 4439706.26, 2017024.8, 654659.28, 3657231.0, 4089753.75, 1720236.5, 436948.8, 2114874.84, 1056768.3, 4009035.2, 933426.15, 1967095.8, 4331145.6, 2263580.88, 2158513.2, 29339.72, 251412.54, 933426.15, 551239.5, 2944622.7, 827250.2, 4439550.51]}],\n",
       "                        {\"template\": {\"data\": {\"bar\": [{\"error_x\": {\"color\": \"#2a3f5f\"}, \"error_y\": {\"color\": \"#2a3f5f\"}, \"marker\": {\"line\": {\"color\": \"#E5ECF6\", \"width\": 0.5}}, \"type\": \"bar\"}], \"barpolar\": [{\"marker\": {\"line\": {\"color\": \"#E5ECF6\", \"width\": 0.5}}, \"type\": \"barpolar\"}], \"carpet\": [{\"aaxis\": {\"endlinecolor\": \"#2a3f5f\", \"gridcolor\": \"white\", \"linecolor\": \"white\", \"minorgridcolor\": \"white\", \"startlinecolor\": \"#2a3f5f\"}, \"baxis\": {\"endlinecolor\": \"#2a3f5f\", \"gridcolor\": \"white\", \"linecolor\": \"white\", \"minorgridcolor\": \"white\", \"startlinecolor\": \"#2a3f5f\"}, \"type\": \"carpet\"}], \"choropleth\": [{\"colorbar\": {\"outlinewidth\": 0, \"ticks\": \"\"}, \"type\": \"choropleth\"}], \"contour\": [{\"colorbar\": {\"outlinewidth\": 0, \"ticks\": \"\"}, \"colorscale\": [[0.0, \"#0d0887\"], [0.1111111111111111, \"#46039f\"], [0.2222222222222222, \"#7201a8\"], [0.3333333333333333, \"#9c179e\"], [0.4444444444444444, \"#bd3786\"], [0.5555555555555556, \"#d8576b\"], [0.6666666666666666, \"#ed7953\"], [0.7777777777777778, \"#fb9f3a\"], [0.8888888888888888, \"#fdca26\"], [1.0, \"#f0f921\"]], \"type\": \"contour\"}], \"contourcarpet\": [{\"colorbar\": {\"outlinewidth\": 0, \"ticks\": \"\"}, \"type\": \"contourcarpet\"}], \"heatmap\": [{\"colorbar\": {\"outlinewidth\": 0, \"ticks\": \"\"}, \"colorscale\": [[0.0, \"#0d0887\"], [0.1111111111111111, \"#46039f\"], [0.2222222222222222, \"#7201a8\"], [0.3333333333333333, \"#9c179e\"], [0.4444444444444444, \"#bd3786\"], [0.5555555555555556, \"#d8576b\"], [0.6666666666666666, \"#ed7953\"], [0.7777777777777778, \"#fb9f3a\"], [0.8888888888888888, \"#fdca26\"], [1.0, \"#f0f921\"]], \"type\": \"heatmap\"}], \"heatmapgl\": [{\"colorbar\": {\"outlinewidth\": 0, \"ticks\": \"\"}, \"colorscale\": [[0.0, \"#0d0887\"], [0.1111111111111111, \"#46039f\"], [0.2222222222222222, \"#7201a8\"], [0.3333333333333333, \"#9c179e\"], [0.4444444444444444, \"#bd3786\"], [0.5555555555555556, \"#d8576b\"], [0.6666666666666666, \"#ed7953\"], [0.7777777777777778, \"#fb9f3a\"], [0.8888888888888888, \"#fdca26\"], [1.0, \"#f0f921\"]], \"type\": \"heatmapgl\"}], \"histogram\": [{\"marker\": {\"colorbar\": {\"outlinewidth\": 0, \"ticks\": \"\"}}, \"type\": \"histogram\"}], \"histogram2d\": [{\"colorbar\": {\"outlinewidth\": 0, \"ticks\": \"\"}, \"colorscale\": [[0.0, \"#0d0887\"], [0.1111111111111111, \"#46039f\"], [0.2222222222222222, \"#7201a8\"], [0.3333333333333333, \"#9c179e\"], [0.4444444444444444, \"#bd3786\"], [0.5555555555555556, \"#d8576b\"], [0.6666666666666666, \"#ed7953\"], [0.7777777777777778, \"#fb9f3a\"], [0.8888888888888888, \"#fdca26\"], [1.0, \"#f0f921\"]], \"type\": \"histogram2d\"}], \"histogram2dcontour\": [{\"colorbar\": {\"outlinewidth\": 0, \"ticks\": \"\"}, \"colorscale\": [[0.0, \"#0d0887\"], [0.1111111111111111, \"#46039f\"], [0.2222222222222222, \"#7201a8\"], [0.3333333333333333, \"#9c179e\"], [0.4444444444444444, \"#bd3786\"], [0.5555555555555556, \"#d8576b\"], [0.6666666666666666, \"#ed7953\"], [0.7777777777777778, \"#fb9f3a\"], [0.8888888888888888, \"#fdca26\"], [1.0, \"#f0f921\"]], \"type\": \"histogram2dcontour\"}], \"mesh3d\": [{\"colorbar\": {\"outlinewidth\": 0, \"ticks\": \"\"}, \"type\": \"mesh3d\"}], \"parcoords\": [{\"line\": {\"colorbar\": {\"outlinewidth\": 0, \"ticks\": \"\"}}, \"type\": \"parcoords\"}], \"pie\": [{\"automargin\": true, \"type\": \"pie\"}], \"scatter\": [{\"marker\": {\"colorbar\": {\"outlinewidth\": 0, \"ticks\": \"\"}}, \"type\": \"scatter\"}], \"scatter3d\": [{\"line\": {\"colorbar\": {\"outlinewidth\": 0, \"ticks\": \"\"}}, \"marker\": {\"colorbar\": {\"outlinewidth\": 0, \"ticks\": \"\"}}, \"type\": \"scatter3d\"}], \"scattercarpet\": [{\"marker\": {\"colorbar\": {\"outlinewidth\": 0, \"ticks\": \"\"}}, \"type\": \"scattercarpet\"}], \"scattergeo\": [{\"marker\": {\"colorbar\": {\"outlinewidth\": 0, \"ticks\": \"\"}}, \"type\": \"scattergeo\"}], \"scattergl\": [{\"marker\": {\"colorbar\": {\"outlinewidth\": 0, \"ticks\": \"\"}}, \"type\": \"scattergl\"}], \"scattermapbox\": [{\"marker\": {\"colorbar\": {\"outlinewidth\": 0, \"ticks\": \"\"}}, \"type\": \"scattermapbox\"}], \"scatterpolar\": [{\"marker\": {\"colorbar\": {\"outlinewidth\": 0, \"ticks\": \"\"}}, \"type\": \"scatterpolar\"}], \"scatterpolargl\": [{\"marker\": {\"colorbar\": {\"outlinewidth\": 0, \"ticks\": \"\"}}, \"type\": \"scatterpolargl\"}], \"scatterternary\": [{\"marker\": {\"colorbar\": {\"outlinewidth\": 0, \"ticks\": \"\"}}, \"type\": \"scatterternary\"}], \"surface\": [{\"colorbar\": {\"outlinewidth\": 0, \"ticks\": \"\"}, \"colorscale\": [[0.0, \"#0d0887\"], [0.1111111111111111, \"#46039f\"], [0.2222222222222222, \"#7201a8\"], [0.3333333333333333, \"#9c179e\"], [0.4444444444444444, \"#bd3786\"], [0.5555555555555556, \"#d8576b\"], [0.6666666666666666, \"#ed7953\"], [0.7777777777777778, \"#fb9f3a\"], [0.8888888888888888, \"#fdca26\"], [1.0, \"#f0f921\"]], \"type\": \"surface\"}], \"table\": [{\"cells\": {\"fill\": {\"color\": \"#EBF0F8\"}, \"line\": {\"color\": \"white\"}}, \"header\": {\"fill\": {\"color\": \"#C8D4E3\"}, \"line\": {\"color\": \"white\"}}, \"type\": \"table\"}]}, \"layout\": {\"annotationdefaults\": {\"arrowcolor\": \"#2a3f5f\", \"arrowhead\": 0, \"arrowwidth\": 1}, \"coloraxis\": {\"colorbar\": {\"outlinewidth\": 0, \"ticks\": \"\"}}, \"colorscale\": {\"diverging\": [[0, \"#8e0152\"], [0.1, \"#c51b7d\"], [0.2, \"#de77ae\"], [0.3, \"#f1b6da\"], [0.4, \"#fde0ef\"], [0.5, \"#f7f7f7\"], [0.6, \"#e6f5d0\"], [0.7, \"#b8e186\"], [0.8, \"#7fbc41\"], [0.9, \"#4d9221\"], [1, \"#276419\"]], \"sequential\": [[0.0, \"#0d0887\"], [0.1111111111111111, \"#46039f\"], [0.2222222222222222, \"#7201a8\"], [0.3333333333333333, \"#9c179e\"], [0.4444444444444444, \"#bd3786\"], [0.5555555555555556, \"#d8576b\"], [0.6666666666666666, \"#ed7953\"], [0.7777777777777778, \"#fb9f3a\"], [0.8888888888888888, \"#fdca26\"], [1.0, \"#f0f921\"]], \"sequentialminus\": [[0.0, \"#0d0887\"], [0.1111111111111111, \"#46039f\"], [0.2222222222222222, \"#7201a8\"], [0.3333333333333333, \"#9c179e\"], [0.4444444444444444, \"#bd3786\"], [0.5555555555555556, \"#d8576b\"], [0.6666666666666666, \"#ed7953\"], [0.7777777777777778, \"#fb9f3a\"], [0.8888888888888888, \"#fdca26\"], [1.0, \"#f0f921\"]]}, \"colorway\": [\"#636efa\", \"#EF553B\", \"#00cc96\", \"#ab63fa\", \"#FFA15A\", \"#19d3f3\", \"#FF6692\", \"#B6E880\", \"#FF97FF\", \"#FECB52\"], \"font\": {\"color\": \"#2a3f5f\"}, \"geo\": {\"bgcolor\": \"white\", \"lakecolor\": \"white\", \"landcolor\": \"#E5ECF6\", \"showlakes\": true, \"showland\": true, \"subunitcolor\": \"white\"}, \"hoverlabel\": {\"align\": \"left\"}, \"hovermode\": \"closest\", \"mapbox\": {\"style\": \"light\"}, \"paper_bgcolor\": \"white\", \"plot_bgcolor\": \"#E5ECF6\", \"polar\": {\"angularaxis\": {\"gridcolor\": \"white\", \"linecolor\": \"white\", \"ticks\": \"\"}, \"bgcolor\": \"#E5ECF6\", \"radialaxis\": {\"gridcolor\": \"white\", \"linecolor\": \"white\", \"ticks\": \"\"}}, \"scene\": {\"xaxis\": {\"backgroundcolor\": \"#E5ECF6\", \"gridcolor\": \"white\", \"gridwidth\": 2, \"linecolor\": \"white\", \"showbackground\": true, \"ticks\": \"\", \"zerolinecolor\": \"white\"}, \"yaxis\": {\"backgroundcolor\": \"#E5ECF6\", \"gridcolor\": \"white\", \"gridwidth\": 2, \"linecolor\": \"white\", \"showbackground\": true, \"ticks\": \"\", \"zerolinecolor\": \"white\"}, \"zaxis\": {\"backgroundcolor\": \"#E5ECF6\", \"gridcolor\": \"white\", \"gridwidth\": 2, \"linecolor\": \"white\", \"showbackground\": true, \"ticks\": \"\", \"zerolinecolor\": \"white\"}}, \"shapedefaults\": {\"line\": {\"color\": \"#2a3f5f\"}}, \"ternary\": {\"aaxis\": {\"gridcolor\": \"white\", \"linecolor\": \"white\", \"ticks\": \"\"}, \"baxis\": {\"gridcolor\": \"white\", \"linecolor\": \"white\", \"ticks\": \"\"}, \"bgcolor\": \"#E5ECF6\", \"caxis\": {\"gridcolor\": \"white\", \"linecolor\": \"white\", \"ticks\": \"\"}}, \"title\": {\"x\": 0.05}, \"xaxis\": {\"automargin\": true, \"gridcolor\": \"white\", \"linecolor\": \"white\", \"ticks\": \"\", \"title\": {\"standoff\": 15}, \"zerolinecolor\": \"white\", \"zerolinewidth\": 2}, \"yaxis\": {\"automargin\": true, \"gridcolor\": \"white\", \"linecolor\": \"white\", \"ticks\": \"\", \"title\": {\"standoff\": 15}, \"zerolinecolor\": \"white\", \"zerolinewidth\": 2}}}, \"title\": {\"text\": \"Manually Set Date Range\"}, \"xaxis\": {\"range\": [\"01/01/2019\", \"12/31/2019\"]}},\n",
       "                        {\"responsive\": true}\n",
       "                    ).then(function(){\n",
       "                            \n",
       "var gd = document.getElementById('ec9ab517-d127-48ed-b801-7ce997d27e7d');\n",
       "var x = new MutationObserver(function (mutations, observer) {{\n",
       "        var display = window.getComputedStyle(gd).display;\n",
       "        if (!display || display === 'none') {{\n",
       "            console.log([gd, 'removed!']);\n",
       "            Plotly.purge(gd);\n",
       "            observer.disconnect();\n",
       "        }}\n",
       "}});\n",
       "\n",
       "// Listen for the removal of the full notebook cells\n",
       "var notebookContainer = gd.closest('#notebook-container');\n",
       "if (notebookContainer) {{\n",
       "    x.observe(notebookContainer, {childList: true});\n",
       "}}\n",
       "\n",
       "// Listen for the clearing of the current output cell\n",
       "var outputEl = gd.closest('.output');\n",
       "if (outputEl) {{\n",
       "    x.observe(outputEl, {childList: true});\n",
       "}}\n",
       "\n",
       "                        })\n",
       "                };\n",
       "                });\n",
       "            </script>\n",
       "        </div>"
      ]
     },
     "metadata": {},
     "output_type": "display_data"
    }
   ],
   "source": [
    "import plotly.graph_objects as go\n",
    "import pandas as pd\n",
    "\n",
    "df = pd.read_csv(\"e1.csv\")\n",
    "\n",
    "fig = go.Figure()\n",
    "fig.add_trace(go.Scatter(\n",
    "                x=df.Date,\n",
    "                y=df['Revenue'],\n",
    "                name=\"Revenue\",\n",
    "                line_color='deepskyblue',\n",
    "                opacity=0.8))\n",
    "\n",
    "# Use date string to set xaxis range\n",
    "fig.update_layout(xaxis_range=['01/01/2019','12/31/2019'],\n",
    "                  title_text=\"Manually Set Date Range\")\n",
    "fig.show()"
   ]
  },
  {
   "cell_type": "code",
   "execution_count": 40,
   "metadata": {},
   "outputs": [
    {
     "ename": "AttributeError",
     "evalue": "type object 'datetime.datetime' has no attribute 'datetime'",
     "output_type": "error",
     "traceback": [
      "\u001b[0;31m---------------------------------------------------------------------------\u001b[0m",
      "\u001b[0;31mAttributeError\u001b[0m                            Traceback (most recent call last)",
      "\u001b[0;32m<ipython-input-40-48e8cef8da03>\u001b[0m in \u001b[0;36m<module>\u001b[0;34m\u001b[0m\n\u001b[1;32m      1\u001b[0m \u001b[0;32mfrom\u001b[0m \u001b[0mdatetime\u001b[0m \u001b[0;32mimport\u001b[0m \u001b[0mdatetime\u001b[0m\u001b[0;34m\u001b[0m\u001b[0;34m\u001b[0m\u001b[0m\n\u001b[1;32m      2\u001b[0m \u001b[0mdatetime\u001b[0m\u001b[0;34m.\u001b[0m\u001b[0mstrptime\u001b[0m\u001b[0;34m(\u001b[0m\u001b[0;34m\"2012-may-31 19:00\"\u001b[0m\u001b[0;34m,\u001b[0m \u001b[0;34m\"%Y-%b-%d %H:%M\"\u001b[0m\u001b[0;34m)\u001b[0m\u001b[0;34m\u001b[0m\u001b[0;34m\u001b[0m\u001b[0m\n\u001b[0;32m----> 3\u001b[0;31m \u001b[0mdatetime\u001b[0m\u001b[0;34m.\u001b[0m\u001b[0mdatetime\u001b[0m\u001b[0;34m(\u001b[0m\u001b[0;36m2012\u001b[0m\u001b[0;34m,\u001b[0m \u001b[0;36m5\u001b[0m\u001b[0;34m,\u001b[0m \u001b[0;36m31\u001b[0m\u001b[0;34m,\u001b[0m \u001b[0;36m19\u001b[0m\u001b[0;34m,\u001b[0m \u001b[0;36m0\u001b[0m\u001b[0;34m)\u001b[0m\u001b[0;34m\u001b[0m\u001b[0;34m\u001b[0m\u001b[0m\n\u001b[0m",
      "\u001b[0;31mAttributeError\u001b[0m: type object 'datetime.datetime' has no attribute 'datetime'"
     ]
    }
   ],
   "source": [
    "from datetime import datetime\n",
    "datetime.strptime(\"2012-may-31 19:00\", \"%Y-%b-%d %H:%M\")\n",
    "datetime.datetime(2012, 5, 31, 19, 0)"
   ]
  },
  {
   "cell_type": "code",
   "execution_count": 44,
   "metadata": {},
   "outputs": [
    {
     "data": {
      "text/plain": [
       "1018"
      ]
     },
     "execution_count": 44,
     "metadata": {},
     "output_type": "execute_result"
    }
   ],
   "source": [
    "len(mainSellerID)"
   ]
  },
  {
   "cell_type": "code",
   "execution_count": 42,
   "metadata": {},
   "outputs": [],
   "source": [
    "#list of all the values\n",
    "main_dates=totDataset['Bill_Date'].tolist()"
   ]
  },
  {
   "cell_type": "code",
   "execution_count": 45,
   "metadata": {},
   "outputs": [
    {
     "data": {
      "text/plain": [
       "1018"
      ]
     },
     "execution_count": 45,
     "metadata": {},
     "output_type": "execute_result"
    }
   ],
   "source": [
    "len(main_dates)"
   ]
  },
  {
   "cell_type": "code",
   "execution_count": 65,
   "metadata": {},
   "outputs": [],
   "source": [
    "final_date=[]\n",
    "for i in range(0,1018):\n",
    "    if(mainSellerID[i]==239):\n",
    "        final_date.append(str(main_dates[i]))"
   ]
  },
  {
   "cell_type": "code",
   "execution_count": 66,
   "metadata": {},
   "outputs": [
    {
     "data": {
      "text/plain": [
       "['2019-09-22 00:00:00',\n",
       " '2019-11-12 00:00:00',\n",
       " '2019-03-27 00:00:00',\n",
       " '2019-03-27 00:00:00',\n",
       " '2019-03-27 00:00:00',\n",
       " '2019-03-27 00:00:00',\n",
       " '2019-03-27 00:00:00',\n",
       " '2019-03-27 00:00:00',\n",
       " '2019-03-27 00:00:00',\n",
       " '2019-03-27 00:00:00',\n",
       " '2019-03-27 00:00:00',\n",
       " '2019-03-27 00:00:00',\n",
       " '2019-05-31 00:00:00']"
      ]
     },
     "execution_count": 66,
     "metadata": {},
     "output_type": "execute_result"
    }
   ],
   "source": [
    "final_date"
   ]
  },
  {
   "cell_type": "code",
   "execution_count": 67,
   "metadata": {},
   "outputs": [],
   "source": [
    "final_date.sort()"
   ]
  },
  {
   "cell_type": "code",
   "execution_count": 68,
   "metadata": {},
   "outputs": [
    {
     "data": {
      "text/plain": [
       "['2019-03-27 00:00:00',\n",
       " '2019-03-27 00:00:00',\n",
       " '2019-03-27 00:00:00',\n",
       " '2019-03-27 00:00:00',\n",
       " '2019-03-27 00:00:00',\n",
       " '2019-03-27 00:00:00',\n",
       " '2019-03-27 00:00:00',\n",
       " '2019-03-27 00:00:00',\n",
       " '2019-03-27 00:00:00',\n",
       " '2019-03-27 00:00:00',\n",
       " '2019-05-31 00:00:00',\n",
       " '2019-09-22 00:00:00',\n",
       " '2019-11-12 00:00:00']"
      ]
     },
     "execution_count": 68,
     "metadata": {},
     "output_type": "execute_result"
    }
   ],
   "source": [
    "final_date"
   ]
  },
  {
   "cell_type": "code",
   "execution_count": 61,
   "metadata": {},
   "outputs": [],
   "source": [
    "final_value=[]\n",
    "for i in range(0,1018):\n",
    "    if(mainSellerID[i]==239):\n",
    "        final_value.append(value[i])"
   ]
  },
  {
   "cell_type": "code",
   "execution_count": 62,
   "metadata": {},
   "outputs": [
    {
     "data": {
      "text/plain": [
       "[4722725.28,\n",
       " 3575959.2,\n",
       " 3008005.44,\n",
       " 404271.9,\n",
       " 3171069.36,\n",
       " 1832233.44,\n",
       " 3261387.2,\n",
       " 2237151.84,\n",
       " 2359707.09,\n",
       " 4439706.26,\n",
       " 2017024.8,\n",
       " 654659.28,\n",
       " 3657231.0]"
      ]
     },
     "execution_count": 62,
     "metadata": {},
     "output_type": "execute_result"
    }
   ],
   "source": [
    "final_value"
   ]
  },
  {
   "cell_type": "code",
   "execution_count": 69,
   "metadata": {},
   "outputs": [
    {
     "data": {
      "text/plain": [
       "<function matplotlib.pyplot.show(*args, **kw)>"
      ]
     },
     "execution_count": 69,
     "metadata": {},
     "output_type": "execute_result"
    },
    {
     "data": {
      "image/png": "[encoded data removed]",
      "text/plain": [
       "<Figure size 432x288 with 1 Axes>"
      ]
     },
     "metadata": {
      "needs_background": "light"
     },
     "output_type": "display_data"
    }
   ],
   "source": [
    "plt.plot(final_date,final_value)\n",
    "plt.show"
   ]
  },
  {
   "cell_type": "code",
   "execution_count": 70,
   "metadata": {},
   "outputs": [],
   "source": [
    "final_date164=[]\n",
    "for i in range(0,1018):\n",
    "    if(mainSellerID[i]==164):\n",
    "        final_date164.append(str(main_dates[i]))"
   ]
  },
  {
   "cell_type": "code",
   "execution_count": 72,
   "metadata": {},
   "outputs": [
    {
     "data": {
      "text/plain": [
       "['2019-12-30 00:00:00',\n",
       " '2019-03-17 00:00:00',\n",
       " '2019-11-23 00:00:00',\n",
       " '2019-10-07 00:00:00',\n",
       " '2019-03-13 00:00:00',\n",
       " '2019-03-13 00:00:00',\n",
       " '2019-03-13 00:00:00',\n",
       " '2019-03-13 00:00:00',\n",
       " '2019-03-13 00:00:00',\n",
       " '2019-03-13 00:00:00',\n",
       " '2019-03-13 00:00:00',\n",
       " '2019-03-13 00:00:00',\n",
       " '2019-03-15 00:00:00',\n",
       " '2019-10-10 00:00:00',\n",
       " '2019-10-10 00:00:00',\n",
       " '2019-10-10 00:00:00']"
      ]
     },
     "execution_count": 72,
     "metadata": {},
     "output_type": "execute_result"
    }
   ],
   "source": [
    "final_date164"
   ]
  },
  {
   "cell_type": "code",
   "execution_count": 80,
   "metadata": {},
   "outputs": [
    {
     "data": {
      "text/plain": [
       "['2019-03-13 00:00:00',\n",
       " '2019-03-13 00:00:00',\n",
       " '2019-03-13 00:00:00',\n",
       " '2019-03-13 00:00:00',\n",
       " '2019-03-13 00:00:00',\n",
       " '2019-03-13 00:00:00',\n",
       " '2019-03-13 00:00:00',\n",
       " '2019-03-13 00:00:00',\n",
       " '2019-03-15 00:00:00',\n",
       " '2019-03-17 00:00:00',\n",
       " '2019-10-07 00:00:00',\n",
       " '2019-10-10 00:00:00',\n",
       " '2019-10-10 00:00:00',\n",
       " '2019-10-10 00:00:00',\n",
       " '2019-11-23 00:00:00',\n",
       " '2019-12-30 00:00:00']"
      ]
     },
     "execution_count": 80,
     "metadata": {},
     "output_type": "execute_result"
    }
   ],
   "source": [
    "final_date164.sort()\n",
    "final_date164"
   ]
  },
  {
   "cell_type": "code",
   "execution_count": 75,
   "metadata": {},
   "outputs": [],
   "source": [
    "final_value164=[]\n",
    "for i in range(0,1018):\n",
    "    if(mainSellerID[i]==164):\n",
    "        final_value164.append(value[i])"
   ]
  },
  {
   "cell_type": "code",
   "execution_count": 76,
   "metadata": {},
   "outputs": [
    {
     "data": {
      "text/plain": [
       "[2320432.92,\n",
       " 1754633.79,\n",
       " 3706274.88,\n",
       " 4536872.36,\n",
       " 290498.55,\n",
       " 1051050.0,\n",
       " 5155943.52,\n",
       " 2747914.88,\n",
       " 3501224.8,\n",
       " 2460090.72,\n",
       " 763316.4,\n",
       " 2629016.39,\n",
       " 340945.2,\n",
       " 1911546.4,\n",
       " 172116.9,\n",
       " 1646797.28]"
      ]
     },
     "execution_count": 76,
     "metadata": {},
     "output_type": "execute_result"
    }
   ],
   "source": [
    "final_value164"
   ]
  },
  {
   "cell_type": "code",
   "execution_count": 82,
   "metadata": {},
   "outputs": [
    {
     "data": {
      "text/plain": [
       "<function matplotlib.pyplot.show(*args, **kw)>"
      ]
     },
     "execution_count": 82,
     "metadata": {},
     "output_type": "execute_result"
    },
    {
     "data": {
      "image/png": "[encoded data removed]",
      "text/plain": [
       "<Figure size 432x288 with 1 Axes>"
      ]
     },
     "metadata": {
      "needs_background": "light"
     },
     "output_type": "display_data"
    }
   ],
   "source": [
    "plt.plot(final_date164,final_value164)\n",
    "plt.show"
   ]
  },
  {
   "cell_type": "code",
   "execution_count": 83,
   "metadata": {},
   "outputs": [
    {
     "data": {
      "text/plain": [
       "[<matplotlib.lines.Line2D at 0x7fb8574febe0>]"
      ]
     },
     "execution_count": 83,
     "metadata": {},
     "output_type": "execute_result"
    },
    {
     "data": {
      "image/png": "[encoded data removed]",
      "text/plain": [
       "<Figure size 432x288 with 1 Axes>"
      ]
     },
     "metadata": {
      "needs_background": "light"
     },
     "output_type": "display_data"
    },
    {
     "data": {
      "image/png": "[encoded data removed]",
      "text/plain": [
       "<Figure size 432x288 with 1 Axes>"
      ]
     },
     "metadata": {
      "needs_background": "light"
     },
     "output_type": "display_data"
    }
   ],
   "source": [
    "# mode 01 from one case\n",
    "fig1 = plt.figure()\n",
    "ax1 = fig1.add_subplot(111)\n",
    "ax1.plot(final_date,final_value, label='mode 01' )\n",
    "# mode 01 from other case\n",
    "fig2 = plt.figure()\n",
    "ax2 = fig2.add_subplot(111)\n",
    "ax2.plot(final_date164,final_value164, label='mode 01' )"
   ]
  },
  {
   "cell_type": "code",
   "execution_count": 84,
   "metadata": {},
   "outputs": [],
   "source": [
    "final_date180=[]\n",
    "for i in range(0,1018):\n",
    "    if(mainSellerID[i]==164):\n",
    "        final_date180.append(str(main_dates[i]))"
   ]
  },
  {
   "cell_type": "code",
   "execution_count": 86,
   "metadata": {},
   "outputs": [
    {
     "data": {
      "text/plain": [
       "['2019-03-13 00:00:00',\n",
       " '2019-03-13 00:00:00',\n",
       " '2019-03-13 00:00:00',\n",
       " '2019-03-13 00:00:00',\n",
       " '2019-03-13 00:00:00',\n",
       " '2019-03-13 00:00:00',\n",
       " '2019-03-13 00:00:00',\n",
       " '2019-03-13 00:00:00',\n",
       " '2019-03-15 00:00:00',\n",
       " '2019-03-17 00:00:00',\n",
       " '2019-10-07 00:00:00',\n",
       " '2019-10-10 00:00:00',\n",
       " '2019-10-10 00:00:00',\n",
       " '2019-10-10 00:00:00',\n",
       " '2019-11-23 00:00:00',\n",
       " '2019-12-30 00:00:00']"
      ]
     },
     "execution_count": 86,
     "metadata": {},
     "output_type": "execute_result"
    }
   ],
   "source": [
    "final_date164.sort()\n",
    "final_date164"
   ]
  },
  {
   "cell_type": "code",
   "execution_count": 87,
   "metadata": {},
   "outputs": [],
   "source": [
    "final_value180=[]\n",
    "for i in range(0,1018):\n",
    "    if(mainSellerID[i]==164):\n",
    "        final_value180.append(value[i])"
   ]
  },
  {
   "cell_type": "code",
   "execution_count": 88,
   "metadata": {},
   "outputs": [
    {
     "data": {
      "text/plain": [
       "[2320432.92,\n",
       " 1754633.79,\n",
       " 3706274.88,\n",
       " 4536872.36,\n",
       " 290498.55,\n",
       " 1051050.0,\n",
       " 5155943.52,\n",
       " 2747914.88,\n",
       " 3501224.8,\n",
       " 2460090.72,\n",
       " 763316.4,\n",
       " 2629016.39,\n",
       " 340945.2,\n",
       " 1911546.4,\n",
       " 172116.9,\n",
       " 1646797.28]"
      ]
     },
     "execution_count": 88,
     "metadata": {},
     "output_type": "execute_result"
    }
   ],
   "source": [
    "final_value180"
   ]
  },
  {
   "cell_type": "code",
   "execution_count": 95,
   "metadata": {},
   "outputs": [
    {
     "data": {
      "text/plain": [
       "<function matplotlib.pyplot.show(*args, **kw)>"
      ]
     },
     "execution_count": 95,
     "metadata": {},
     "output_type": "execute_result"
    },
    {
     "data": {
      "image/png": "[encoded data removed]",
      "text/plain": [
       "<Figure size 432x288 with 1 Axes>"
      ]
     },
     "metadata": {
      "needs_background": "light"
     },
     "output_type": "display_data"
    }
   ],
   "source": [
    "plt.plot(final_date180,final_value180)\n",
    "plt.show"
   ]
  },
  {
   "cell_type": "code",
   "execution_count": null,
   "metadata": {},
   "outputs": [],
   "source": [
    "#graphs for all the top 5 seller"
   ]
  },
  {
   "cell_type": "code",
   "execution_count": 96,
   "metadata": {},
   "outputs": [],
   "source": [
    "dates=totDataset['Bill_Date'].tolist()"
   ]
  },
  {
   "cell_type": "code",
   "execution_count": 101,
   "metadata": {},
   "outputs": [],
   "source": [
    "final_date205 = []\n",
    "for i in range(0,1018):\n",
    "    if(mainSellerID[i] == 205):\n",
    "        final_date205.append(str(dates[i]))\n",
    "final_date155 = []\n",
    "for i in range(0,1018):\n",
    "    if(mainSellerID[i] == 155):\n",
    "        final_date155.append(str(dates[i]))"
   ]
  },
  {
   "cell_type": "code",
   "execution_count": 102,
   "metadata": {},
   "outputs": [],
   "source": [
    "final_value205 = []\n",
    "for i in range(0,1018):\n",
    "    if(mainSellerID[i] == 205):\n",
    "        final_value205.append(str(value[i]))\n",
    "final_value155 = []\n",
    "for i in range(0,1018):\n",
    "    if(mainSellerID[i] == 155):\n",
    "        final_value155.append(str(value[i]))"
   ]
  },
  {
   "cell_type": "code",
   "execution_count": 103,
   "metadata": {},
   "outputs": [
    {
     "data": {
      "text/plain": [
       "[<matplotlib.lines.Line2D at 0x7fb854169cf8>]"
      ]
     },
     "execution_count": 103,
     "metadata": {},
     "output_type": "execute_result"
    },
    {
     "data": {
      "image/png": "[encoded data removed]",
      "text/plain": [
       "<Figure size 432x288 with 1 Axes>"
      ]
     },
     "metadata": {
      "needs_background": "light"
     },
     "output_type": "display_data"
    },
    {
     "data": {
      "image/png": "[encoded data removed]",
      "text/plain": [
       "<Figure size 432x288 with 1 Axes>"
      ]
     },
     "metadata": {
      "needs_background": "light"
     },
     "output_type": "display_data"
    },
    {
     "data": {
      "image/png": "[encoded data removed]",
      "text/plain": [
       "<Figure size 432x288 with 1 Axes>"
      ]
     },
     "metadata": {
      "needs_background": "light"
     },
     "output_type": "display_data"
    },
    {
     "data": {
      "image/png": "[encoded data removed]",
      "text/plain": [
       "<Figure size 432x288 with 1 Axes>"
      ]
     },
     "metadata": {
      "needs_background": "light"
     },
     "output_type": "display_data"
    },
    {
     "data": {
      "image/png": "[encoded data removed]",
      "text/plain": [
       "<Figure size 432x288 with 1 Axes>"
      ]
     },
     "metadata": {
      "needs_background": "light"
     },
     "output_type": "display_data"
    }
   ],
   "source": [
    "# mode 01 from one case\n",
    "fig1 = plt.figure()\n",
    "ax1 = fig1.add_subplot(111)\n",
    "ax1.plot(final_date,final_value, label='mode 01' )\n",
    "# mode 01 from other case\n",
    "fig2 = plt.figure()\n",
    "ax2 = fig2.add_subplot(111)\n",
    "ax2.plot(final_date164,final_value164, label='mode 01' )\n",
    "# mode 01 from other case\n",
    "fig3 = plt.figure()\n",
    "ax3 = fig3.add_subplot(111)\n",
    "ax3.plot(final_date180,final_value180, label='mode 01' )\n",
    "# mode 01 from other case\n",
    "fig3 = plt.figure()\n",
    "ax3 = fig3.add_subplot(111)\n",
    "ax3.plot(final_date205,final_value205, label='mode 01' )\n",
    "# mode 01 from other case\n",
    "fig3 = plt.figure()\n",
    "ax3 = fig3.add_subplot(111)\n",
    "ax3.plot(final_date155,final_value155, label='mode 01' )"
   ]
  },
  {
   "cell_type": "code",
   "execution_count": null,
   "metadata": {},
   "outputs": [],
   "source": []
  }
 ],
 "metadata": {
  "kernelspec": {
   "display_name": "Python 3",
   "language": "python",
   "name": "python3"
  },
  "language_info": {
   "codemirror_mode": {
    "name": "ipython",
    "version": 3
   },
   "file_extension": ".py",
   "mimetype": "text/x-python",
   "name": "python",
   "nbconvert_exporter": "python",
   "pygments_lexer": "ipython3",
   "version": "3.6.9"
  }
 },
 "nbformat": 4,
 "nbformat_minor": 4
}
