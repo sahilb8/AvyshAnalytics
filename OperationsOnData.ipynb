{
 "cells": [
  {
   "cell_type": "code",
   "execution_count": 1,
   "metadata": {},
   "outputs": [],
   "source": [
    "#No of items purchased against each bill number\n",
    "import csv\n",
    "import pandas as pd\n",
    "s = pd.read_csv('product1.csv', header=None, index_col=False)[0]\n",
    "s.value_counts().to_csv('BillNO_vs_Items.csv')"
   ]
  },
  {
   "cell_type": "code",
   "execution_count": null,
   "metadata": {},
   "outputs": [],
   "source": [
    "#appending Bill No in a list\n",
    "import csv\n",
    "billno = []\n",
    "with open('product1.csv') as csvDataFile:\n",
    "    csvReader = csv.reader(csvDataFile)\n",
    "    for row in csvReader:\n",
    "        print (row[1])\n",
    "        billno.append(row[1])"
   ]
  },
  {
   "cell_type": "code",
   "execution_count": null,
   "metadata": {},
   "outputs": [],
   "source": [
    "#appending Value of each Bill No in a list\n",
    "import csv\n",
    "value1 = []\n",
    "with open('v.csv') as csvDataFile:\n",
    "    csvReader = csv.reader(csvDataFile)\n",
    "    for row in csvReader:\n",
    "        print (row[0])\n",
    "        value1.append(float(row[0]))"
   ]
  },
  {
   "cell_type": "code",
   "execution_count": null,
   "metadata": {},
   "outputs": [],
   "source": [
    "#Pushing the above two lists in a csv file\n",
    "data = {'A':billno,'B': value1}\n",
    "df = pd.DataFrame(data)\n",
    "#print(df)\n",
    "#df.to_csv('file2.csv')"
   ]
  },
  {
   "cell_type": "code",
   "execution_count": null,
   "metadata": {},
   "outputs": [],
   "source": [
    "#Calculating Aggregate Value\n",
    "df.groupby('A')['B'].agg(['sum','count']).to_csv('AggregateValue.csv')"
   ]
  },
  {
   "cell_type": "code",
   "execution_count": null,
   "metadata": {},
   "outputs": [],
   "source": [
    "#Finding Every Customer's first Purchase\n",
    "import csv\n",
    "from collections import defaultdict\n",
    "from pprint import pprint\n",
    "import timeit\n",
    "\n",
    "\n",
    "def method1():\n",
    "    rows = list(csv.reader(open('Main.csv', 'r'), delimiter=','))\n",
    "    cols = list(zip(*rows))\n",
    "    print(cols[0])\n",
    "    unik = set(cols[12])\n",
    "\n",
    "    indexed = defaultdict(list)\n",
    "\n",
    "    for x in unik:\n",
    "        i = cols[12].index(x)\n",
    "        indexed[i] = rows[i]\n",
    "\n",
    "    return indexed\n",
    "\n",
    "results = method1()    \n",
    "print ('indexed:')\n",
    "pprint(dict(results))\n",
    "# df = pd.DataFrame(dict(results))\n",
    "# df.to_csv(\"FirstPurchase.csv\")"
   ]
  }
 ],
 "metadata": {
  "kernelspec": {
   "display_name": "Python 3",
   "language": "python",
   "name": "python3"
  },
  "language_info": {
   "codemirror_mode": {
    "name": "ipython",
    "version": 3
   },
   "file_extension": ".py",
   "mimetype": "text/x-python",
   "name": "python",
   "nbconvert_exporter": "python",
   "pygments_lexer": "ipython3",
   "version": "3.6.9"
  }
 },
 "nbformat": 4,
 "nbformat_minor": 4
}
